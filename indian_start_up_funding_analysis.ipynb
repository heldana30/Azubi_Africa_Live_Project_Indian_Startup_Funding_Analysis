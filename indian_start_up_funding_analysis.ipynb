{
 "cells": [
  {
   "cell_type": "markdown",
   "metadata": {},
   "source": [
    "## Indian Start-up Funding Analysis\n",
    "\n",
    "\n",
    "### Project Scenario\n",
    "The Team is trying to venture into the Indian start-up ecosystem. As the data expert of the team, I was tasked to:\n",
    "\n",
    "- Investigate the ecosystem and propose the best course of action.\n",
    "  - Analyze funding received by start-ups in India from 2018 to 2021.\n",
    "  - Separate data for each year of funding will be provided.\n",
    "  - Find the start-ups’ details, the funding amounts received, and the investors' information.\n",
    "\n",
    "### Objective\n",
    "To analyze funding trends and dynamics within the Indian start-up ecosystem from 2018 to 2021 and propose strategic recommendations for the team's venture.\n"
   ]
  },
  {
   "cell_type": "markdown",
   "metadata": {},
   "source": [
    "### Business Questions\n",
    "####\n",
    "1.What sectors have shown the highest growth in terms of funding received over the past four years?\n",
    "\n",
    "2.What geographical regions within India have emerged as the primary hubs for startup activity and investment, and what factors contribute to their prominence?\n",
    "\n",
    "3.Are there any notable differences in funding patterns between early-stage startups and more established companies?\n",
    "\n",
    "4.Which sectors recieve the lowest level of funding and which sectors recieve the highest levels of funding in India and what factors contribute to this?\n",
    "\n",
    "5.Which investors have more impact on startups over the years?\n",
    "\n",
    "6.What are the key characteristics of startups that successfully secure funding, and how do they differ from those that struggle to attract investment?"
   ]
  },
  {
   "cell_type": "markdown",
   "metadata": {},
   "source": [
    "## Hypothesis Testing\n",
    "\n",
    "#### \n",
    "Null Hypothesis(Ho): There is no siginificante difference in the amount of funding between startups in Bangalore.\n",
    "#### \n",
    "Alternative Hypothesis(Ha): There is a siginificante difference in the amount of funding between startups in Banaglore."
   ]
  },
  {
   "cell_type": "code",
   "execution_count": 246,
   "metadata": {},
   "outputs": [
    {
     "name": "stdout",
     "output_type": "stream",
     "text": [
      "Requirement already satisfied: pandas in c:\\users\\ok\\lp1weekone\\azubi_africa_live_project_indian_startup_funding_analysis\\venv\\lib\\site-packages (2.2.1)\n",
      "Requirement already satisfied: pyodbc in c:\\users\\ok\\lp1weekone\\azubi_africa_live_project_indian_startup_funding_analysis\\venv\\lib\\site-packages (5.1.0)\n",
      "Requirement already satisfied: python-dotenv in c:\\users\\ok\\lp1weekone\\azubi_africa_live_project_indian_startup_funding_analysis\\venv\\lib\\site-packages (1.0.1)\n",
      "Requirement already satisfied: requests in c:\\users\\ok\\lp1weekone\\azubi_africa_live_project_indian_startup_funding_analysis\\venv\\lib\\site-packages (2.31.0)\n",
      "Requirement already satisfied: python-dateutil>=2.8.2 in c:\\users\\ok\\lp1weekone\\azubi_africa_live_project_indian_startup_funding_analysis\\venv\\lib\\site-packages (from pandas) (2.8.2)\n",
      "Requirement already satisfied: tzdata>=2022.7 in c:\\users\\ok\\lp1weekone\\azubi_africa_live_project_indian_startup_funding_analysis\\venv\\lib\\site-packages (from pandas) (2024.1)\n",
      "Requirement already satisfied: pytz>=2020.1 in c:\\users\\ok\\lp1weekone\\azubi_africa_live_project_indian_startup_funding_analysis\\venv\\lib\\site-packages (from pandas) (2024.1)\n",
      "Requirement already satisfied: numpy<2,>=1.22.4 in c:\\users\\ok\\lp1weekone\\azubi_africa_live_project_indian_startup_funding_analysis\\venv\\lib\\site-packages (from pandas) (1.26.4)\n",
      "Requirement already satisfied: charset-normalizer<4,>=2 in c:\\users\\ok\\lp1weekone\\azubi_africa_live_project_indian_startup_funding_analysis\\venv\\lib\\site-packages (from requests) (3.3.2)\n",
      "Requirement already satisfied: idna<4,>=2.5 in c:\\users\\ok\\lp1weekone\\azubi_africa_live_project_indian_startup_funding_analysis\\venv\\lib\\site-packages (from requests) (3.6)\n",
      "Requirement already satisfied: urllib3<3,>=1.21.1 in c:\\users\\ok\\lp1weekone\\azubi_africa_live_project_indian_startup_funding_analysis\\venv\\lib\\site-packages (from requests) (2.2.1)\n",
      "Requirement already satisfied: certifi>=2017.4.17 in c:\\users\\ok\\lp1weekone\\azubi_africa_live_project_indian_startup_funding_analysis\\venv\\lib\\site-packages (from requests) (2024.2.2)\n",
      "Requirement already satisfied: six>=1.5 in c:\\users\\ok\\lp1weekone\\azubi_africa_live_project_indian_startup_funding_analysis\\venv\\lib\\site-packages (from python-dateutil>=2.8.2->pandas) (1.16.0)\n",
      "Note: you may need to restart the kernel to use updated packages.\n"
     ]
    },
    {
     "name": "stderr",
     "output_type": "stream",
     "text": [
      "\n",
      "[notice] A new release of pip available: 22.3.1 -> 24.0\n",
      "[notice] To update, run: python.exe -m pip install --upgrade pip\n"
     ]
    }
   ],
   "source": [
    "# Install necessary packages\n",
    "\n",
    "%pip install pandas pyodbc python-dotenv requests\n",
    "\n"
   ]
  },
  {
   "cell_type": "code",
   "execution_count": 247,
   "metadata": {},
   "outputs": [
    {
     "name": "stdout",
     "output_type": "stream",
     "text": [
      "🛬 Imported all packages. Warnings hidden. 👻\n"
     ]
    }
   ],
   "source": [
    "from dotenv import dotenv_values \n",
    "import pyodbc \n",
    "import numpy as np\n",
    "import pandas as pd                      \n",
    "import re     \n",
    "import seaborn as sns\n",
    "import matplotlib.pyplot as plt\n",
    "import statistics as stat \n",
    "import geopandas as gpd\n",
    "import geoplot as gplt\n",
    "import folium\n",
    "import squarify\n",
    "from folium.plugins import MarkerCluster\n",
    "from scipy import stats        \n",
    "from geopy.geocoders import Nominatim    \n",
    "from scipy.stats import ttest_ind    \n",
    "import warnings\n",
    "warnings.filterwarnings('ignore')\n",
    "\n",
    "print(\"🛬 Imported all packages.\", \"Warnings hidden. 👻\")"
   ]
  },
  {
   "cell_type": "markdown",
   "metadata": {},
   "source": [
    "### First Data Set\n",
    "The first data was from a database management system, that is MIRCORSOFT SQL SERVER. Connection was made to the database using an Open Database Connectivity standard library, pyodbc. <br>\n",
    "Two tables were read from the databases. That is, <br>\n",
    "Table 1: dbo.LP1_startup_funding2020 <br>\n",
    "Table 2: dbo.LP1_startup_funding2021\n"
   ]
  },
  {
   "cell_type": "code",
   "execution_count": 248,
   "metadata": {},
   "outputs": [],
   "source": [
    "# Load environment variables from .env file into a dictionary\n",
    "environment_variables = dotenv_values('.env')\n",
    "\n",
    "# Get the values for the credentials you set in the '.env' file\n",
    "server = environment_variables.get(\"SERVER\")\n",
    "database = environment_variables.get(\"DATABASE\")\n",
    "username = environment_variables.get(\"USERNAME\")\n",
    "password = environment_variables.get(\"PASSWORD\")"
   ]
  },
  {
   "cell_type": "code",
   "execution_count": 249,
   "metadata": {},
   "outputs": [],
   "source": [
    "# Create a connection string\n",
    "connection_string = f\"DRIVER={{SQL Server}};SERVER={server};DATABASE={database};UID={username};PWD={password};MARS_Connection=yes;MinProtocolVersion=TLSv1.2;\""
   ]
  },
  {
   "cell_type": "code",
   "execution_count": 250,
   "metadata": {},
   "outputs": [],
   "source": [
    "# Use the connect method of the pyodbc library and pass in the connection string.\n",
    "# This will connect to the server and might take a few seconds to be complete. \n",
    "# Check your internet connection if it takes more time than necessary\n",
    "connection = pyodbc.connect(connection_string)"
   ]
  },
  {
   "cell_type": "code",
   "execution_count": 251,
   "metadata": {},
   "outputs": [],
   "source": [
    "# Now the sql query to get the data is what what you see below.\n",
    "# Note that you will not have permissions to insert delete or update this database table.\n",
    "query = \"Select * from dbo.LP1_startup_funding2020\"\n",
    "table_1 = pd.read_sql(query, connection)\n"
   ]
  },
  {
   "cell_type": "code",
   "execution_count": 252,
   "metadata": {},
   "outputs": [],
   "source": [
    "query = \"Select * from dbo.LP1_startup_funding2021\"\n",
    "table_2 = pd.read_sql(query, connection)"
   ]
  },
  {
   "cell_type": "code",
   "execution_count": 253,
   "metadata": {},
   "outputs": [
    {
     "name": "stdout",
     "output_type": "stream",
     "text": [
      "<class 'pandas.core.frame.DataFrame'>\n",
      "RangeIndex: 1055 entries, 0 to 1054\n",
      "Data columns (total 10 columns):\n",
      " #   Column         Non-Null Count  Dtype  \n",
      "---  ------         --------------  -----  \n",
      " 0   Company_Brand  1055 non-null   object \n",
      " 1   Founded        842 non-null    float64\n",
      " 2   HeadQuarter    961 non-null    object \n",
      " 3   Sector         1042 non-null   object \n",
      " 4   What_it_does   1055 non-null   object \n",
      " 5   Founders       1043 non-null   object \n",
      " 6   Investor       1017 non-null   object \n",
      " 7   Amount         801 non-null    float64\n",
      " 8   Stage          591 non-null    object \n",
      " 9   column10       2 non-null      object \n",
      "dtypes: float64(2), object(8)\n",
      "memory usage: 82.5+ KB\n"
     ]
    }
   ],
   "source": [
    "table_1.info()"
   ]
  },
  {
   "cell_type": "code",
   "execution_count": 254,
   "metadata": {},
   "outputs": [
    {
     "name": "stdout",
     "output_type": "stream",
     "text": [
      "<class 'pandas.core.frame.DataFrame'>\n",
      "RangeIndex: 1209 entries, 0 to 1208\n",
      "Data columns (total 9 columns):\n",
      " #   Column         Non-Null Count  Dtype  \n",
      "---  ------         --------------  -----  \n",
      " 0   Company_Brand  1209 non-null   object \n",
      " 1   Founded        1208 non-null   float64\n",
      " 2   HeadQuarter    1208 non-null   object \n",
      " 3   Sector         1209 non-null   object \n",
      " 4   What_it_does   1209 non-null   object \n",
      " 5   Founders       1205 non-null   object \n",
      " 6   Investor       1147 non-null   object \n",
      " 7   Amount         1206 non-null   object \n",
      " 8   Stage          781 non-null    object \n",
      "dtypes: float64(1), object(8)\n",
      "memory usage: 85.1+ KB\n"
     ]
    }
   ],
   "source": [
    "table_2.info()"
   ]
  },
  {
   "cell_type": "code",
   "execution_count": 255,
   "metadata": {},
   "outputs": [
    {
     "data": {
      "text/html": [
       "<div>\n",
       "<style scoped>\n",
       "    .dataframe tbody tr th:only-of-type {\n",
       "        vertical-align: middle;\n",
       "    }\n",
       "\n",
       "    .dataframe tbody tr th {\n",
       "        vertical-align: top;\n",
       "    }\n",
       "\n",
       "    .dataframe thead th {\n",
       "        text-align: right;\n",
       "    }\n",
       "</style>\n",
       "<table border=\"1\" class=\"dataframe\">\n",
       "  <thead>\n",
       "    <tr style=\"text-align: right;\">\n",
       "      <th></th>\n",
       "      <th>Company_Brand</th>\n",
       "      <th>Founded</th>\n",
       "      <th>HeadQuarter</th>\n",
       "      <th>Sector</th>\n",
       "      <th>What_it_does</th>\n",
       "      <th>Founders</th>\n",
       "      <th>Investor</th>\n",
       "      <th>Amount</th>\n",
       "      <th>Stage</th>\n",
       "      <th>column10</th>\n",
       "    </tr>\n",
       "  </thead>\n",
       "  <tbody>\n",
       "    <tr>\n",
       "      <th>0</th>\n",
       "      <td>Aqgromalin</td>\n",
       "      <td>2019.0</td>\n",
       "      <td>Chennai</td>\n",
       "      <td>AgriTech</td>\n",
       "      <td>Cultivating Ideas for Profit</td>\n",
       "      <td>Prasanna Manogaran, Bharani C L</td>\n",
       "      <td>Angel investors</td>\n",
       "      <td>200000.0</td>\n",
       "      <td>None</td>\n",
       "      <td>None</td>\n",
       "    </tr>\n",
       "    <tr>\n",
       "      <th>1</th>\n",
       "      <td>Krayonnz</td>\n",
       "      <td>2019.0</td>\n",
       "      <td>Bangalore</td>\n",
       "      <td>EdTech</td>\n",
       "      <td>An academy-guardian-scholar centric ecosystem ...</td>\n",
       "      <td>Saurabh Dixit, Gurudutt Upadhyay</td>\n",
       "      <td>GSF Accelerator</td>\n",
       "      <td>100000.0</td>\n",
       "      <td>Pre-seed</td>\n",
       "      <td>None</td>\n",
       "    </tr>\n",
       "    <tr>\n",
       "      <th>2</th>\n",
       "      <td>PadCare Labs</td>\n",
       "      <td>2018.0</td>\n",
       "      <td>Pune</td>\n",
       "      <td>Hygiene management</td>\n",
       "      <td>Converting bio-hazardous waste to harmless waste</td>\n",
       "      <td>Ajinkya Dhariya</td>\n",
       "      <td>Venture Center</td>\n",
       "      <td>NaN</td>\n",
       "      <td>Pre-seed</td>\n",
       "      <td>None</td>\n",
       "    </tr>\n",
       "  </tbody>\n",
       "</table>\n",
       "</div>"
      ],
      "text/plain": [
       "  Company_Brand  Founded HeadQuarter              Sector  \\\n",
       "0    Aqgromalin   2019.0     Chennai            AgriTech   \n",
       "1      Krayonnz   2019.0   Bangalore              EdTech   \n",
       "2  PadCare Labs   2018.0        Pune  Hygiene management   \n",
       "\n",
       "                                        What_it_does  \\\n",
       "0                       Cultivating Ideas for Profit   \n",
       "1  An academy-guardian-scholar centric ecosystem ...   \n",
       "2   Converting bio-hazardous waste to harmless waste   \n",
       "\n",
       "                           Founders         Investor    Amount     Stage  \\\n",
       "0   Prasanna Manogaran, Bharani C L  Angel investors  200000.0      None   \n",
       "1  Saurabh Dixit, Gurudutt Upadhyay  GSF Accelerator  100000.0  Pre-seed   \n",
       "2                   Ajinkya Dhariya   Venture Center       NaN  Pre-seed   \n",
       "\n",
       "  column10  \n",
       "0     None  \n",
       "1     None  \n",
       "2     None  "
      ]
     },
     "execution_count": 255,
     "metadata": {},
     "output_type": "execute_result"
    }
   ],
   "source": [
    "table_1.head(3)"
   ]
  },
  {
   "cell_type": "code",
   "execution_count": 256,
   "metadata": {},
   "outputs": [
    {
     "data": {
      "text/html": [
       "<div>\n",
       "<style scoped>\n",
       "    .dataframe tbody tr th:only-of-type {\n",
       "        vertical-align: middle;\n",
       "    }\n",
       "\n",
       "    .dataframe tbody tr th {\n",
       "        vertical-align: top;\n",
       "    }\n",
       "\n",
       "    .dataframe thead th {\n",
       "        text-align: right;\n",
       "    }\n",
       "</style>\n",
       "<table border=\"1\" class=\"dataframe\">\n",
       "  <thead>\n",
       "    <tr style=\"text-align: right;\">\n",
       "      <th></th>\n",
       "      <th>Company_Brand</th>\n",
       "      <th>Founded</th>\n",
       "      <th>HeadQuarter</th>\n",
       "      <th>Sector</th>\n",
       "      <th>What_it_does</th>\n",
       "      <th>Founders</th>\n",
       "      <th>Investor</th>\n",
       "      <th>Amount</th>\n",
       "      <th>Stage</th>\n",
       "      <th>column10</th>\n",
       "    </tr>\n",
       "  </thead>\n",
       "  <tbody>\n",
       "    <tr>\n",
       "      <th>611</th>\n",
       "      <td>Walrus</td>\n",
       "      <td>2019.0</td>\n",
       "      <td>Bangalore</td>\n",
       "      <td>Fintech</td>\n",
       "      <td>It provides banking solutions for teens and yo...</td>\n",
       "      <td>Bhagaban Behera, Sriharsha Shetty, Nakul Kelkar</td>\n",
       "      <td>Better Capital</td>\n",
       "      <td>NaN</td>\n",
       "      <td>Pre-Seed</td>\n",
       "      <td>Pre-Seed</td>\n",
       "    </tr>\n",
       "    <tr>\n",
       "      <th>613</th>\n",
       "      <td>goDutch</td>\n",
       "      <td>NaN</td>\n",
       "      <td>Mumbai</td>\n",
       "      <td>Fintech</td>\n",
       "      <td>Group Payments platform</td>\n",
       "      <td>Aniruddh Singh, Riyaz Khan, Sagar Sheth</td>\n",
       "      <td>Matrix India, Y Combinator, Global Founders Ca...</td>\n",
       "      <td>1700000.0</td>\n",
       "      <td>Seed Round</td>\n",
       "      <td>Seed Round</td>\n",
       "    </tr>\n",
       "  </tbody>\n",
       "</table>\n",
       "</div>"
      ],
      "text/plain": [
       "    Company_Brand  Founded HeadQuarter   Sector  \\\n",
       "611        Walrus   2019.0   Bangalore  Fintech   \n",
       "613       goDutch      NaN      Mumbai  Fintech   \n",
       "\n",
       "                                          What_it_does  \\\n",
       "611  It provides banking solutions for teens and yo...   \n",
       "613                            Group Payments platform   \n",
       "\n",
       "                                            Founders  \\\n",
       "611  Bhagaban Behera, Sriharsha Shetty, Nakul Kelkar   \n",
       "613          Aniruddh Singh, Riyaz Khan, Sagar Sheth   \n",
       "\n",
       "                                              Investor     Amount       Stage  \\\n",
       "611                                     Better Capital        NaN    Pre-Seed   \n",
       "613  Matrix India, Y Combinator, Global Founders Ca...  1700000.0  Seed Round   \n",
       "\n",
       "       column10  \n",
       "611    Pre-Seed  \n",
       "613  Seed Round  "
      ]
     },
     "execution_count": 256,
     "metadata": {},
     "output_type": "execute_result"
    }
   ],
   "source": [
    "table_1[table_1['column10'].notna()]"
   ]
  },
  {
   "cell_type": "markdown",
   "metadata": {},
   "source": [
    "#### Drop column10 in table_1 since it has just two values that are not null and are also just repetition of values in Stage column "
   ]
  },
  {
   "cell_type": "code",
   "execution_count": 257,
   "metadata": {},
   "outputs": [
    {
     "data": {
      "text/html": [
       "<div>\n",
       "<style scoped>\n",
       "    .dataframe tbody tr th:only-of-type {\n",
       "        vertical-align: middle;\n",
       "    }\n",
       "\n",
       "    .dataframe tbody tr th {\n",
       "        vertical-align: top;\n",
       "    }\n",
       "\n",
       "    .dataframe thead th {\n",
       "        text-align: right;\n",
       "    }\n",
       "</style>\n",
       "<table border=\"1\" class=\"dataframe\">\n",
       "  <thead>\n",
       "    <tr style=\"text-align: right;\">\n",
       "      <th></th>\n",
       "      <th>Company_Brand</th>\n",
       "      <th>Founded</th>\n",
       "      <th>HeadQuarter</th>\n",
       "      <th>Sector</th>\n",
       "      <th>What_it_does</th>\n",
       "      <th>Founders</th>\n",
       "      <th>Investor</th>\n",
       "      <th>Amount</th>\n",
       "      <th>Stage</th>\n",
       "    </tr>\n",
       "  </thead>\n",
       "  <tbody>\n",
       "    <tr>\n",
       "      <th>0</th>\n",
       "      <td>Aqgromalin</td>\n",
       "      <td>2019.0</td>\n",
       "      <td>Chennai</td>\n",
       "      <td>AgriTech</td>\n",
       "      <td>Cultivating Ideas for Profit</td>\n",
       "      <td>Prasanna Manogaran, Bharani C L</td>\n",
       "      <td>Angel investors</td>\n",
       "      <td>200000.0</td>\n",
       "      <td>None</td>\n",
       "    </tr>\n",
       "    <tr>\n",
       "      <th>1</th>\n",
       "      <td>Krayonnz</td>\n",
       "      <td>2019.0</td>\n",
       "      <td>Bangalore</td>\n",
       "      <td>EdTech</td>\n",
       "      <td>An academy-guardian-scholar centric ecosystem ...</td>\n",
       "      <td>Saurabh Dixit, Gurudutt Upadhyay</td>\n",
       "      <td>GSF Accelerator</td>\n",
       "      <td>100000.0</td>\n",
       "      <td>Pre-seed</td>\n",
       "    </tr>\n",
       "    <tr>\n",
       "      <th>2</th>\n",
       "      <td>PadCare Labs</td>\n",
       "      <td>2018.0</td>\n",
       "      <td>Pune</td>\n",
       "      <td>Hygiene management</td>\n",
       "      <td>Converting bio-hazardous waste to harmless waste</td>\n",
       "      <td>Ajinkya Dhariya</td>\n",
       "      <td>Venture Center</td>\n",
       "      <td>NaN</td>\n",
       "      <td>Pre-seed</td>\n",
       "    </tr>\n",
       "  </tbody>\n",
       "</table>\n",
       "</div>"
      ],
      "text/plain": [
       "  Company_Brand  Founded HeadQuarter              Sector  \\\n",
       "0    Aqgromalin   2019.0     Chennai            AgriTech   \n",
       "1      Krayonnz   2019.0   Bangalore              EdTech   \n",
       "2  PadCare Labs   2018.0        Pune  Hygiene management   \n",
       "\n",
       "                                        What_it_does  \\\n",
       "0                       Cultivating Ideas for Profit   \n",
       "1  An academy-guardian-scholar centric ecosystem ...   \n",
       "2   Converting bio-hazardous waste to harmless waste   \n",
       "\n",
       "                           Founders         Investor    Amount     Stage  \n",
       "0   Prasanna Manogaran, Bharani C L  Angel investors  200000.0      None  \n",
       "1  Saurabh Dixit, Gurudutt Upadhyay  GSF Accelerator  100000.0  Pre-seed  \n",
       "2                   Ajinkya Dhariya   Venture Center       NaN  Pre-seed  "
      ]
     },
     "execution_count": 257,
     "metadata": {},
     "output_type": "execute_result"
    }
   ],
   "source": [
    "# Drop column10\n",
    "table_1.drop('column10', axis=1, inplace=True) if 'column10' in table_1.columns else table_1\n",
    "table_1.head(3)"
   ]
  },
  {
   "cell_type": "code",
   "execution_count": 258,
   "metadata": {},
   "outputs": [],
   "source": [
    "# Function to clean the column names\n",
    "\n",
    "def stripper(string: str, strip: list) -> str:\n",
    "    \"\"\"Strips a strip list from a given string and returns the string\"\"\"\n",
    "    for s in strip:\n",
    "        string = string.replace(s, '')\n",
    "        \n",
    "    return string\n",
    "    \n",
    "def replacer(string: str, replace: list) -> str:\n",
    "    \"\"\"Replaces each character in replace list with underscore given a string and returns the string\"\"\"\n",
    "    for r in replace:\n",
    "        string = string.replace(r, '_')\n",
    "                \n",
    "    return string\n",
    "    \n",
    "def clean_column_names(df):\n",
    "    strip   = ['(', ')', '$']\n",
    "    replace = [' ', '/'] \n",
    "    df.columns = [replacer(stripper(col_name.lower(), strip), replace) for col_name in df.columns]\n",
    "    return df\n"
   ]
  },
  {
   "cell_type": "code",
   "execution_count": 259,
   "metadata": {},
   "outputs": [],
   "source": [
    "# Clean the column names\n",
    "table_1 = clean_column_names(table_1)\n",
    "table_2 = clean_column_names(table_2)"
   ]
  },
  {
   "cell_type": "code",
   "execution_count": 260,
   "metadata": {},
   "outputs": [
    {
     "name": "stdout",
     "output_type": "stream",
     "text": [
      "<class 'pandas.core.frame.DataFrame'>\n",
      "RangeIndex: 1055 entries, 0 to 1054\n",
      "Data columns (total 9 columns):\n",
      " #   Column         Non-Null Count  Dtype  \n",
      "---  ------         --------------  -----  \n",
      " 0   company_brand  1055 non-null   object \n",
      " 1   founded        842 non-null    float64\n",
      " 2   headquarter    961 non-null    object \n",
      " 3   sector         1042 non-null   object \n",
      " 4   what_it_does   1055 non-null   object \n",
      " 5   founders       1043 non-null   object \n",
      " 6   investor       1017 non-null   object \n",
      " 7   amount         801 non-null    float64\n",
      " 8   stage          591 non-null    object \n",
      "dtypes: float64(2), object(7)\n",
      "memory usage: 74.3+ KB\n"
     ]
    }
   ],
   "source": [
    "table_1.info()"
   ]
  },
  {
   "cell_type": "code",
   "execution_count": 261,
   "metadata": {},
   "outputs": [
    {
     "name": "stdout",
     "output_type": "stream",
     "text": [
      "<class 'pandas.core.frame.DataFrame'>\n",
      "RangeIndex: 1209 entries, 0 to 1208\n",
      "Data columns (total 9 columns):\n",
      " #   Column         Non-Null Count  Dtype  \n",
      "---  ------         --------------  -----  \n",
      " 0   company_brand  1209 non-null   object \n",
      " 1   founded        1208 non-null   float64\n",
      " 2   headquarter    1208 non-null   object \n",
      " 3   sector         1209 non-null   object \n",
      " 4   what_it_does   1209 non-null   object \n",
      " 5   founders       1205 non-null   object \n",
      " 6   investor       1147 non-null   object \n",
      " 7   amount         1206 non-null   object \n",
      " 8   stage          781 non-null    object \n",
      "dtypes: float64(1), object(8)\n",
      "memory usage: 85.1+ KB\n"
     ]
    }
   ],
   "source": [
    "table_2.info()"
   ]
  },
  {
   "cell_type": "markdown",
   "metadata": {},
   "source": [
    "### Create year column to identify each dataset"
   ]
  },
  {
   "cell_type": "code",
   "execution_count": 262,
   "metadata": {},
   "outputs": [],
   "source": [
    "# Table 1: dbo.LP1_startup_funding2020\n",
    "table_1['year'] = 2020\n",
    "\n",
    "# Table 2: dbo.LP1_startup_funding2021\n",
    "table_2['year'] = 2021"
   ]
  },
  {
   "cell_type": "markdown",
   "metadata": {},
   "source": [
    "### First Data Set\n",
    "\n"
   ]
  },
  {
   "cell_type": "code",
   "execution_count": 263,
   "metadata": {},
   "outputs": [
    {
     "name": "stdout",
     "output_type": "stream",
     "text": [
      "<class 'pandas.core.frame.DataFrame'>\n",
      "RangeIndex: 2264 entries, 0 to 2263\n",
      "Data columns (total 10 columns):\n",
      " #   Column         Non-Null Count  Dtype  \n",
      "---  ------         --------------  -----  \n",
      " 0   company_brand  2264 non-null   object \n",
      " 1   founded        2050 non-null   float64\n",
      " 2   headquarter    2169 non-null   object \n",
      " 3   sector         2251 non-null   object \n",
      " 4   what_it_does   2264 non-null   object \n",
      " 5   founders       2248 non-null   object \n",
      " 6   investor       2164 non-null   object \n",
      " 7   amount         2007 non-null   object \n",
      " 8   stage          1372 non-null   object \n",
      " 9   year           2264 non-null   int64  \n",
      "dtypes: float64(1), int64(1), object(8)\n",
      "memory usage: 177.0+ KB\n"
     ]
    }
   ],
   "source": [
    "# First Data set\n",
    "first_dataset = pd.concat([table_1, table_2], ignore_index=True)\n",
    "\n",
    "first_dataset.info()\n"
   ]
  },
  {
   "cell_type": "markdown",
   "metadata": {},
   "source": [
    "### Second Data Set"
   ]
  },
  {
   "cell_type": "code",
   "execution_count": 264,
   "metadata": {},
   "outputs": [
    {
     "name": "stdout",
     "output_type": "stream",
     "text": [
      "<class 'pandas.core.frame.DataFrame'>\n",
      "RangeIndex: 89 entries, 0 to 88\n",
      "Data columns (total 9 columns):\n",
      " #   Column         Non-Null Count  Dtype  \n",
      "---  ------         --------------  -----  \n",
      " 0   company_brand  89 non-null     object \n",
      " 1   founded        60 non-null     float64\n",
      " 2   headquarter    70 non-null     object \n",
      " 3   sector         84 non-null     object \n",
      " 4   what_it_does   89 non-null     object \n",
      " 5   founders       86 non-null     object \n",
      " 6   investor       89 non-null     object \n",
      " 7   amount         89 non-null     object \n",
      " 8   stage          43 non-null     object \n",
      "dtypes: float64(1), object(8)\n",
      "memory usage: 6.4+ KB\n"
     ]
    }
   ],
   "source": [
    "# Load dataset\n",
    "second_dataset = pd.read_csv('DataSets/startup_funding2019.csv')\n",
    "\n",
    "second_dataset = clean_column_names(second_dataset)\n",
    "\n",
    "second_dataset.info()"
   ]
  },
  {
   "cell_type": "markdown",
   "metadata": {},
   "source": [
    "### Third Data Set"
   ]
  },
  {
   "cell_type": "code",
   "execution_count": 265,
   "metadata": {},
   "outputs": [
    {
     "name": "stdout",
     "output_type": "stream",
     "text": [
      "<class 'pandas.core.frame.DataFrame'>\n",
      "RangeIndex: 526 entries, 0 to 525\n",
      "Data columns (total 6 columns):\n",
      " #   Column         Non-Null Count  Dtype \n",
      "---  ------         --------------  ----- \n",
      " 0   company_name   526 non-null    object\n",
      " 1   industry       526 non-null    object\n",
      " 2   round_series   526 non-null    object\n",
      " 3   amount         526 non-null    object\n",
      " 4   location       526 non-null    object\n",
      " 5   about_company  526 non-null    object\n",
      "dtypes: object(6)\n",
      "memory usage: 24.8+ KB\n"
     ]
    }
   ],
   "source": [
    "# Load dataset\n",
    "third_dataset = pd.read_csv('DataSets/startup_funding2018.csv')\n",
    "\n",
    "third_dataset = clean_column_names(third_dataset)\n",
    "\n",
    "third_dataset.info()"
   ]
  },
  {
   "cell_type": "code",
   "execution_count": 266,
   "metadata": {},
   "outputs": [],
   "source": [
    "# Fix location values, take every letter before the first comma as headquarter\n",
    "third_dataset['location'] = [location.split(',')[0] for location in third_dataset['location']]\n"
   ]
  },
  {
   "cell_type": "code",
   "execution_count": 267,
   "metadata": {},
   "outputs": [
    {
     "name": "stdout",
     "output_type": "stream",
     "text": [
      "<class 'pandas.core.frame.DataFrame'>\n",
      "RangeIndex: 526 entries, 0 to 525\n",
      "Data columns (total 6 columns):\n",
      " #   Column         Non-Null Count  Dtype \n",
      "---  ------         --------------  ----- \n",
      " 0   company_brand  526 non-null    object\n",
      " 1   sector         526 non-null    object\n",
      " 2   stage          526 non-null    object\n",
      " 3   amount         526 non-null    object\n",
      " 4   headquarter    526 non-null    object\n",
      " 5   what_it_does   526 non-null    object\n",
      "dtypes: object(6)\n",
      "memory usage: 24.8+ KB\n"
     ]
    }
   ],
   "source": [
    "# Rename round_series to stage and location to headquarter\n",
    "third_dataset.rename(columns={\n",
    "    'company_name': 'company_brand', \n",
    "    'industry': 'sector', \n",
    "    'round_series': 'stage', \n",
    "    'about_company': 'what_it_does', \n",
    "    'location': 'headquarter'\n",
    "    },\n",
    "    inplace=True\n",
    ")\n",
    "\n",
    "third_dataset.info()"
   ]
  },
  {
   "cell_type": "markdown",
   "metadata": {},
   "source": [
    "### Create Year column to identify each dataset\n"
   ]
  },
  {
   "cell_type": "code",
   "execution_count": 268,
   "metadata": {},
   "outputs": [],
   "source": [
    "# Create year column\n",
    "\n",
    "# The second data is a flat-file name startup_funding2019.csv\n",
    "second_dataset['year'] = 2019\n",
    "\n",
    "# The third part of the data flat-file named startup_funding2018.csv\n",
    "third_dataset['year']  = 2018"
   ]
  },
  {
   "cell_type": "markdown",
   "metadata": {},
   "source": [
    "### Create the final concatenated dataset"
   ]
  },
  {
   "cell_type": "code",
   "execution_count": 269,
   "metadata": {},
   "outputs": [
    {
     "name": "stdout",
     "output_type": "stream",
     "text": [
      "<class 'pandas.core.frame.DataFrame'>\n",
      "RangeIndex: 2879 entries, 0 to 2878\n",
      "Data columns (total 10 columns):\n",
      " #   Column         Non-Null Count  Dtype  \n",
      "---  ------         --------------  -----  \n",
      " 0   company_brand  2879 non-null   object \n",
      " 1   founded        2110 non-null   float64\n",
      " 2   headquarter    2765 non-null   object \n",
      " 3   sector         2861 non-null   object \n",
      " 4   what_it_does   2879 non-null   object \n",
      " 5   founders       2334 non-null   object \n",
      " 6   investor       2253 non-null   object \n",
      " 7   amount         2622 non-null   object \n",
      " 8   stage          1941 non-null   object \n",
      " 9   year           2879 non-null   int64  \n",
      "dtypes: float64(1), int64(1), object(8)\n",
      "memory usage: 225.0+ KB\n"
     ]
    }
   ],
   "source": [
    "# Final Data set\n",
    "final_dataset = pd.concat([first_dataset, second_dataset, third_dataset], ignore_index=True)\n",
    "\n",
    "final_dataset.info()"
   ]
  },
  {
   "cell_type": "code",
   "execution_count": 270,
   "metadata": {},
   "outputs": [
    {
     "data": {
      "text/html": [
       "<div>\n",
       "<style scoped>\n",
       "    .dataframe tbody tr th:only-of-type {\n",
       "        vertical-align: middle;\n",
       "    }\n",
       "\n",
       "    .dataframe tbody tr th {\n",
       "        vertical-align: top;\n",
       "    }\n",
       "\n",
       "    .dataframe thead th {\n",
       "        text-align: right;\n",
       "    }\n",
       "</style>\n",
       "<table border=\"1\" class=\"dataframe\">\n",
       "  <thead>\n",
       "    <tr style=\"text-align: right;\">\n",
       "      <th></th>\n",
       "      <th>company_brand</th>\n",
       "      <th>founded</th>\n",
       "      <th>headquarter</th>\n",
       "      <th>sector</th>\n",
       "      <th>what_it_does</th>\n",
       "      <th>founders</th>\n",
       "      <th>investor</th>\n",
       "      <th>amount</th>\n",
       "      <th>stage</th>\n",
       "      <th>year</th>\n",
       "    </tr>\n",
       "  </thead>\n",
       "  <tbody>\n",
       "    <tr>\n",
       "      <th>0</th>\n",
       "      <td>Aqgromalin</td>\n",
       "      <td>2019.0</td>\n",
       "      <td>Chennai</td>\n",
       "      <td>AgriTech</td>\n",
       "      <td>Cultivating Ideas for Profit</td>\n",
       "      <td>Prasanna Manogaran, Bharani C L</td>\n",
       "      <td>Angel investors</td>\n",
       "      <td>200000.0</td>\n",
       "      <td>None</td>\n",
       "      <td>2020</td>\n",
       "    </tr>\n",
       "    <tr>\n",
       "      <th>1</th>\n",
       "      <td>Krayonnz</td>\n",
       "      <td>2019.0</td>\n",
       "      <td>Bangalore</td>\n",
       "      <td>EdTech</td>\n",
       "      <td>An academy-guardian-scholar centric ecosystem ...</td>\n",
       "      <td>Saurabh Dixit, Gurudutt Upadhyay</td>\n",
       "      <td>GSF Accelerator</td>\n",
       "      <td>100000.0</td>\n",
       "      <td>Pre-seed</td>\n",
       "      <td>2020</td>\n",
       "    </tr>\n",
       "    <tr>\n",
       "      <th>2</th>\n",
       "      <td>PadCare Labs</td>\n",
       "      <td>2018.0</td>\n",
       "      <td>Pune</td>\n",
       "      <td>Hygiene management</td>\n",
       "      <td>Converting bio-hazardous waste to harmless waste</td>\n",
       "      <td>Ajinkya Dhariya</td>\n",
       "      <td>Venture Center</td>\n",
       "      <td>NaN</td>\n",
       "      <td>Pre-seed</td>\n",
       "      <td>2020</td>\n",
       "    </tr>\n",
       "    <tr>\n",
       "      <th>3</th>\n",
       "      <td>NCOME</td>\n",
       "      <td>2020.0</td>\n",
       "      <td>New Delhi</td>\n",
       "      <td>Escrow</td>\n",
       "      <td>Escrow-as-a-service platform</td>\n",
       "      <td>Ritesh Tiwari</td>\n",
       "      <td>Venture Catalysts, PointOne Capital</td>\n",
       "      <td>400000.0</td>\n",
       "      <td>None</td>\n",
       "      <td>2020</td>\n",
       "    </tr>\n",
       "    <tr>\n",
       "      <th>4</th>\n",
       "      <td>Gramophone</td>\n",
       "      <td>2016.0</td>\n",
       "      <td>Indore</td>\n",
       "      <td>AgriTech</td>\n",
       "      <td>Gramophone is an AgTech platform enabling acce...</td>\n",
       "      <td>Ashish Rajan Singh, Harshit Gupta, Nishant Mah...</td>\n",
       "      <td>Siana Capital Management, Info Edge</td>\n",
       "      <td>340000.0</td>\n",
       "      <td>None</td>\n",
       "      <td>2020</td>\n",
       "    </tr>\n",
       "  </tbody>\n",
       "</table>\n",
       "</div>"
      ],
      "text/plain": [
       "  company_brand  founded headquarter              sector  \\\n",
       "0    Aqgromalin   2019.0     Chennai            AgriTech   \n",
       "1      Krayonnz   2019.0   Bangalore              EdTech   \n",
       "2  PadCare Labs   2018.0        Pune  Hygiene management   \n",
       "3         NCOME   2020.0   New Delhi              Escrow   \n",
       "4    Gramophone   2016.0      Indore            AgriTech   \n",
       "\n",
       "                                        what_it_does  \\\n",
       "0                       Cultivating Ideas for Profit   \n",
       "1  An academy-guardian-scholar centric ecosystem ...   \n",
       "2   Converting bio-hazardous waste to harmless waste   \n",
       "3                       Escrow-as-a-service platform   \n",
       "4  Gramophone is an AgTech platform enabling acce...   \n",
       "\n",
       "                                            founders  \\\n",
       "0                    Prasanna Manogaran, Bharani C L   \n",
       "1                   Saurabh Dixit, Gurudutt Upadhyay   \n",
       "2                                    Ajinkya Dhariya   \n",
       "3                                      Ritesh Tiwari   \n",
       "4  Ashish Rajan Singh, Harshit Gupta, Nishant Mah...   \n",
       "\n",
       "                              investor    amount     stage  year  \n",
       "0                      Angel investors  200000.0      None  2020  \n",
       "1                      GSF Accelerator  100000.0  Pre-seed  2020  \n",
       "2                       Venture Center       NaN  Pre-seed  2020  \n",
       "3  Venture Catalysts, PointOne Capital  400000.0      None  2020  \n",
       "4  Siana Capital Management, Info Edge  340000.0      None  2020  "
      ]
     },
     "execution_count": 270,
     "metadata": {},
     "output_type": "execute_result"
    }
   ],
   "source": [
    "final_dataset.head(5)"
   ]
  },
  {
   "cell_type": "markdown",
   "metadata": {},
   "source": [
    "### Cleaning Columns"
   ]
  },
  {
   "cell_type": "markdown",
   "metadata": {},
   "source": [
    "- Headquarter & Sector column\n",
    "    - If column value contains '#REF!', clean it and shift the row starting from that column by 1 step and until the stage column\n",
    "    - Sanitize sector column if after cleaning and shifting, but the sector value is also present among unique values of the headquarter column\n",
    "    - Fixes index 1297, 1312, 2155"
   ]
  },
  {
   "cell_type": "code",
   "execution_count": 271,
   "metadata": {},
   "outputs": [],
   "source": [
    "# Function to remove '#REF!' in a series\n",
    "def remove_ref(value):\n",
    "    if isinstance(value, str):\n",
    "        value = value.replace('#REF!', '').strip()\n",
    "            \n",
    "    return value\n",
    "\n",
    "# Columns of Interest \n",
    "columns = ['headquarter', 'investor']\n",
    "for column in columns:    \n",
    "    # Identify rows where column value contains '#REF!\n",
    "    mask = final_dataset[column].str.contains('#REF!')\n",
    "    \n",
    "    # Fill missing values in mask with False\n",
    "    mask.fillna(False, inplace=True)\n",
    "    \n",
    "    # Update the column by applying the remove_ref function to the column\n",
    "    final_dataset.loc[mask, column] = final_dataset.loc[mask, column].apply(remove_ref)\n",
    "    \n",
    "    # Shift values in selected rows excluding the last column 'year'\n",
    "    final_dataset.loc[mask, column:'stage'] = final_dataset.loc[mask, column:'stage'].shift(1, axis=1)\n",
    "\n",
    "\n",
    "# Sanitisizing the sector column after shifting\n",
    "mask = final_dataset['sector'].apply(lambda x: x in final_dataset['headquarter'].unique())\n",
    "\n",
    "# Update 'headquarter' value with 'sector' value\n",
    "final_dataset.loc[mask, 'headquarter'] = final_dataset.loc[mask, 'sector']\n",
    "\n",
    "# Set the 'sector' value to NaN\n",
    "final_dataset.loc[mask, 'sector'] = np.nan          "
   ]
  },
  {
   "cell_type": "markdown",
   "metadata": {},
   "source": [
    "#### Replace 'None' string values with NaN element-wise allowing for consistent representation of missing values"
   ]
  },
  {
   "cell_type": "code",
   "execution_count": 272,
   "metadata": {},
   "outputs": [],
   "source": [
    "# Function replace None with NaN\n",
    "def replace_none(value):\n",
    "    if isinstance(value, str) and (value.lower() == 'none' or value.lower() == 'nan'):\n",
    "        value = np.nan\n",
    "    \n",
    "    return value\n",
    "\n",
    "# Apply the function to all columns\n",
    "final_dataset = final_dataset.applymap(replace_none) # element-wise"
   ]
  },
  {
   "cell_type": "code",
   "execution_count": 273,
   "metadata": {},
   "outputs": [
    {
     "name": "stdout",
     "output_type": "stream",
     "text": [
      "<class 'pandas.core.frame.DataFrame'>\n",
      "RangeIndex: 2879 entries, 0 to 2878\n",
      "Data columns (total 10 columns):\n",
      " #   Column         Non-Null Count  Dtype  \n",
      "---  ------         --------------  -----  \n",
      " 0   company_brand  2879 non-null   object \n",
      " 1   founded        2110 non-null   float64\n",
      " 2   headquarter    2751 non-null   object \n",
      " 3   sector         2781 non-null   object \n",
      " 4   what_it_does   2879 non-null   object \n",
      " 5   founders       2334 non-null   object \n",
      " 6   investor       2252 non-null   object \n",
      " 7   amount         2623 non-null   object \n",
      " 8   stage          1945 non-null   object \n",
      " 9   year           2879 non-null   int64  \n",
      "dtypes: float64(1), int64(1), object(8)\n",
      "memory usage: 225.0+ KB\n"
     ]
    }
   ],
   "source": [
    "final_dataset.info()"
   ]
  },
  {
   "cell_type": "markdown",
   "metadata": {},
   "source": [
    "#### If a value in stage column is a website link, its correct value is NaN\n",
    "\n",
    "**Website link in stage column is https://docs.google.com/spreadsheets/d/1x9ziNeaz6auNChIHnMI8U6kS7knTr3byy_YBGfQaoUA/edit#gid=1861303593**"
   ]
  },
  {
   "cell_type": "code",
   "execution_count": 274,
   "metadata": {},
   "outputs": [],
   "source": [
    "# Function to remove website link from stage column\n",
    "def remove_website_link(value):\n",
    "    # Regular expression pattern to match website URLs that begin with http:// or https:// with an optional www\n",
    "    pattern = r'https?://(?:www\\.)?\\w+\\.\\w+(?:/\\S*)?'\n",
    "    \n",
    "    # Check if the value is a string and matches the pattern\n",
    "    if isinstance(value, str) and re.match(pattern, value):\n",
    "        return np.nan\n",
    "    else:\n",
    "        return value"
   ]
  },
  {
   "cell_type": "code",
   "execution_count": 275,
   "metadata": {},
   "outputs": [],
   "source": [
    "# Remove website link values from the stage column\n",
    "final_dataset['stage'] = final_dataset['stage'].apply(remove_website_link)"
   ]
  },
  {
   "cell_type": "markdown",
   "metadata": {},
   "source": [
    "#### Exchange rates \n",
    "\n",
    "[Source: OFX](https://www.ofx.com/en-au/forex-news/historical-exchange-rates/yearly-average-rates/)\n",
    "```bash\n",
    "exchange_rates = {\n",
    "    2018: 0.014649,\n",
    "    2019: 0.014209,\n",
    "    2020: 0.013501,\n",
    "    2021: 0.013527\n",
    "}"
   ]
  },
  {
   "cell_type": "code",
   "execution_count": 276,
   "metadata": {},
   "outputs": [],
   "source": [
    "# Function to clean amount values\n",
    "def floater(string):\n",
    "    try:\n",
    "        string = float(string)\n",
    "    except ValueError:\n",
    "        string = np.nan\n",
    "    \n",
    "    return string\n",
    "    \n",
    "def clean_amount(row): \n",
    "    amount = row[0]    \n",
    "    year   = row['year'] \n",
    "    \n",
    "    # Source: https://www.ofx.com/en-au/forex-news/historical-exchange-rates/yearly-average-rates/\n",
    "    exchange_rates = {\n",
    "        2018: 0.014649,\n",
    "        2019: 0.014209,\n",
    "        2020: 0.013501,\n",
    "        2021: 0.013527\n",
    "    }\n",
    "    \n",
    "    exchange_rate = exchange_rates[year]   \n",
    "    \n",
    "    # Convert to string\n",
    "    amount = str(amount)   \n",
    "    \n",
    "    if isinstance(amount, str):        \n",
    "        # Set of elements to replace\n",
    "        to_replace = {' ', ','}\n",
    "\n",
    "        # Replace each element in the set with an empty string\n",
    "        for r in to_replace:\n",
    "            amount = amount.replace(r, '')        \n",
    "                        \n",
    "        if amount == '' or amount == '—': \n",
    "            amount = np.nan\n",
    "        # If the amount is in INR (Indian Rupees), convert it to USD using the conversion rate of the year\n",
    "        elif '₹' in amount:\n",
    "            amount = amount.replace('₹', '')\n",
    "            amount = floater(amount) * exchange_rate\n",
    "        \n",
    "        # If the amount is in USD, remove the '$' symbol and convert it to a float\n",
    "        elif '$' in amount:\n",
    "            amount = amount.replace('$', '')\n",
    "            amount = floater(amount)\n",
    "        else:\n",
    "            amount = floater(amount)\n",
    "\n",
    "    \n",
    "    return amount"
   ]
  },
  {
   "cell_type": "code",
   "execution_count": 277,
   "metadata": {},
   "outputs": [
    {
     "data": {
      "text/plain": [
       "company_brand      0\n",
       "founded          769\n",
       "headquarter      128\n",
       "sector            98\n",
       "what_it_does       0\n",
       "founders         545\n",
       "investor         627\n",
       "amount           256\n",
       "stage            935\n",
       "year               0\n",
       "dtype: int64"
      ]
     },
     "execution_count": 277,
     "metadata": {},
     "output_type": "execute_result"
    }
   ],
   "source": [
    "final_dataset.isna().sum()"
   ]
  },
  {
   "cell_type": "markdown",
   "metadata": {},
   "source": [
    "##### If the investor value is a number or contains $, the correct value for amount if missing is the investor value, the correct value for stage is the old amount value and the investor value becomes NaN or missing"
   ]
  },
  {
   "cell_type": "code",
   "execution_count": 278,
   "metadata": {},
   "outputs": [],
   "source": [
    "# Identify rows where 'investor' value is numeric using clean amount function\n",
    "mask = final_dataset[['investor', 'year']].apply(lambda row: pd.notna(clean_amount(row)), axis=1)\n",
    "\n",
    "# Update 'stage' column with the 'amount' value if stage is NaN\n",
    "stage_mask = final_dataset['stage'].isna()\n",
    "final_dataset.loc[mask & stage_mask, 'stage']    = final_dataset.loc[mask, 'amount']\n",
    "\n",
    "# Update 'amount' column with 'investor' value\n",
    "final_dataset.loc[mask, 'amount']                = final_dataset.loc[mask, 'investor']\n",
    "\n",
    "# Set 'investor' to NaN\n",
    "final_dataset.loc[mask, 'investor']              = np.nan"
   ]
  },
  {
   "cell_type": "markdown",
   "metadata": {},
   "source": [
    "##### If the 'stage' value is a number or contains $, the column 'what_it does' becomes its old value concatenated with the value in the 'founder' column. The correct value for 'founder' is the 'investor' value and the correct value for 'investor' is the 'amount' value and correct 'amount' becomes the old 'stage' value while the correct value for 'stage' is NaN or missing. \n"
   ]
  },
  {
   "cell_type": "code",
   "execution_count": 279,
   "metadata": {},
   "outputs": [],
   "source": [
    "# Identify rows where 'stage' value is numeric using clean amount function\n",
    "mask = final_dataset[['stage', 'year']].apply(lambda row: pd.notna(clean_amount(row)), axis=1)\n",
    "\n",
    "# Update the 'what_it_does' column to its concatenation with 'founder' value\n",
    "old_what_it_does = final_dataset.loc[mask, 'what_it_does']\n",
    "old_founder      = final_dataset.loc[mask, 'founders']\n",
    "\n",
    "final_dataset.loc[mask, 'what_it_does']    = old_what_it_does.fillna('') + ' ' + old_founder.fillna('')\n",
    "\n",
    "# Update 'founder' column using the old 'investor' value\n",
    "final_dataset.loc[mask, 'founders']        = final_dataset.loc[mask, 'investor']\n",
    "\n",
    "# Update 'investor' column using the old 'amount' value\n",
    "final_dataset.loc[mask, 'investor']        = final_dataset.loc[mask, 'amount']\n",
    "\n",
    "# Update 'amount' column using the old 'stage' value\n",
    "final_dataset.loc[mask, 'amount']          = final_dataset.loc[mask, 'stage']\n",
    "\n",
    "# Set 'stage' to NaN\n",
    "final_dataset.loc[mask, 'stage']           = np.nan"
   ]
  },
  {
   "cell_type": "markdown",
   "metadata": {},
   "source": [
    "#### Clean and convert amounts to USD and rename colume from amount to amount($)"
   ]
  },
  {
   "cell_type": "code",
   "execution_count": 280,
   "metadata": {},
   "outputs": [],
   "source": [
    "# Clean and convert amounts to USD considering the average exchange rate per year\n",
    "final_dataset['amount'] = final_dataset[['amount','year']].apply(lambda row: clean_amount(row), axis=1)"
   ]
  },
  {
   "cell_type": "code",
   "execution_count": 281,
   "metadata": {},
   "outputs": [],
   "source": [
    "final_dataset.rename(columns={'amount': 'amount($)'}, inplace=True)"
   ]
  },
  {
   "cell_type": "markdown",
   "metadata": {},
   "source": [
    "#### Cleaning the Headquarter Column"
   ]
  },
  {
   "cell_type": "code",
   "execution_count": 282,
   "metadata": {},
   "outputs": [],
   "source": [
    "# Fix headquarter values, take every word before the first comma as headqurter\n",
    "def splitter(value):\n",
    "    \"\"\"\n",
    "    Splits a string by comma and returns the first part.\n",
    "\n",
    "    Args:\n",
    "        value (str or None): The value to be split.\n",
    "\n",
    "    Returns:\n",
    "        str or None: The first part of the string before the first comma, or the original value if the input is not a string.\n",
    "    \"\"\"\n",
    "    return value.split(',')[0] if isinstance(value, str) else value\n",
    "\n",
    "final_dataset['headquarter'] = [splitter(hq) for hq in final_dataset['headquarter']]"
   ]
  },
  {
   "cell_type": "markdown",
   "metadata": {},
   "source": [
    "#### Cleaning the Sector Column"
   ]
  },
  {
   "cell_type": "code",
   "execution_count": 283,
   "metadata": {},
   "outputs": [],
   "source": [
    "# Refactoring\n",
    "def heal_column_from_chars(df: pd.DataFrame, column: str = 'sector', chars: list = [',', ' ', '&', 'and', '/']) -> pd.DataFrame:\n",
    "    \"\"\"\n",
    "    Returns a dataframe with the sector column having the least redundant value for sector.\n",
    "    \n",
    "    Parameters:\n",
    "        df (pd.DataFrame): The DataFrame to clean.\n",
    "        column (str): The name of the column to clean. Defaults to 'sector'.\n",
    "        chars (list): A list of characters or substrings to handle. Defaults to [',', ' ', '&', 'and', '/']. \n",
    "                      Always start with ',' because comma separated sector the most occuring multiple sector value.   \n",
    "        \n",
    "    Returns:\n",
    "        pd.DataFrame: The DataFrame with the specified column cleaned.\n",
    "    \"\"\"\n",
    "    \n",
    "    def count_char(value, char):\n",
    "        \"\"\"\n",
    "        Finds all occurrences of char in value and returns the count.\n",
    "        \n",
    "        Parameters:\n",
    "            value (str): The string in which to search for occurrences of char.\n",
    "            char (str): The character to count occurrences of.\n",
    "        \n",
    "        Returns:\n",
    "            int: The count of occurrences of char in value.\n",
    "        \"\"\"\n",
    "        # Use re.findall to find all occurrences of char in value and return the count\n",
    "        return len(re.findall(re.escape(char), str(value)))\n",
    "    \n",
    "    def char_to_nochar_value(char_value, char, no_char_column):\n",
    "        \"\"\"\n",
    "        Find the equivalent value of char_value in no_char_column.\n",
    "        \n",
    "        Parameters:\n",
    "            char_value (str): The string to process.\n",
    "            char (str): The character to split the char_value string.\n",
    "            no_char_column (pd.Series): The column containing unique values to search for the equivalent value.\n",
    "        \n",
    "        Returns:\n",
    "            str: The equivalent value found in no_char_column.\n",
    "        \"\"\"\n",
    "        \n",
    "        # Default no char value        \n",
    "        no_char_value = char_value \n",
    "        \n",
    "        # Split by char, if char='and', \"Food and Beverage\" = [\"Food \", \" Beverage\"]\n",
    "        char_value    = char_value.split(char) \n",
    "        \n",
    "        # After, char_value is split, update no char_value\n",
    "        no_char_value = char_value[0]\n",
    "        other_value = ''\n",
    "            \n",
    "        def find_index(where, value):\n",
    "            \"\"\"\n",
    "            Find the index where the given value matches the elements in the Series 'where'.\n",
    "            \n",
    "            Parameters:\n",
    "                where (pd.Series): The Series containing strings to search for the value.\n",
    "                value (str): The value to search for.\n",
    "            \n",
    "            Returns:\n",
    "                np.ndarray: The array of indices where the value matches in the Series.\n",
    "            \"\"\"\n",
    "            return np.where(where.str.lower().unique() == value.strip(char).lower())[0]\n",
    "            \n",
    "        for value in char_value: \n",
    "            other_value = other_value + char + value\n",
    "            # Find the index of value in unique no_char_column\n",
    "            indexof_value = find_index(where=no_char_column, value=value)\n",
    "            \n",
    "            # Find the index of other value in unique no_char_column\n",
    "            indexof_othervalue = find_index(where=no_char_column, value=other_value)\n",
    "            \n",
    "            if indexof_value.size == 1:\n",
    "                # If a unique match is found, update no_char_value\n",
    "                no_char_value = value              \n",
    "                break\n",
    "            elif indexof_othervalue.size == 1:  \n",
    "                # If a unique match is found, update no_char_value\n",
    "                no_char_value = other_value              \n",
    "                break\n",
    "            else:\n",
    "                pass\n",
    "                \n",
    "        return no_char_value\n",
    "        \n",
    "    for char in chars: \n",
    "                \n",
    "        char_list = [count_char(value, char) for value in df[column]]\n",
    "                \n",
    "        char_threshold =  0\n",
    "\n",
    "        mask_char      = [x > char_threshold for x in char_list]    # Mask Boolean\n",
    "\n",
    "        mask_no_char   = [not x for x in mask_char]\n",
    "        \n",
    "        char_column    = df.loc[mask_char, column]\n",
    "\n",
    "        no_char_column = df.loc[mask_no_char, column]                \n",
    "\n",
    "        # Convert 'char' column to no 'char' column in the dataframe if there is a no 'char' equivalent    \n",
    "        df.loc[mask_char, column] = char_column.apply(lambda x: char_to_nochar_value(x, char, no_char_column))\n",
    "    \n",
    "    return df  "
   ]
  },
  {
   "cell_type": "code",
   "execution_count": 284,
   "metadata": {},
   "outputs": [],
   "source": [
    "# Cleaning the sector column\n",
    "final_dataset = heal_column_from_chars(final_dataset)"
   ]
  },
  {
   "cell_type": "markdown",
   "metadata": {},
   "source": [
    "- Sector- handling missing values"
   ]
  },
  {
   "cell_type": "code",
   "execution_count": 285,
   "metadata": {},
   "outputs": [],
   "source": [
    "def fill_missing_sector(value):\n",
    "    \"\"\"\n",
    "    Fill missing sector values based on the content of 'what_it_does' column.\n",
    "\n",
    "    Parameters:\n",
    "    value (str): The content of the 'what_it_does' column.\n",
    "\n",
    "    Returns:\n",
    "    str: The assigned sector based on the content of 'what_it_does'.\n",
    "    \"\"\"\n",
    "    stopwords   = ['it', \"a\", \"an\", \"the\", \"and\", \"but\", \"or\"]  # Add other stopwords to exclude\n",
    "    \n",
    "    # Add more sectors and keywords\n",
    "    sector_keywords = {\n",
    "        'Technology': ['platform', 'platforms', 'platform.', 'applications', 'digital', 'digitizes'],\n",
    "        'Waste management': ['waste'],\n",
    "        'Skill development': ['skill, development'], \n",
    "        'Commerce': ['ecommerce'],\n",
    "        'Cosmetics':['skincare'],\n",
    "        'Rental': ['space'],\n",
    "        'HR': ['workforce'],\n",
    "        'Finance': ['financial'],\n",
    "        'Automobile': ['tyre'],\n",
    "        'EdTech': ['edutech']\n",
    "                        \n",
    "    }\n",
    "        \n",
    "    sector  = 'Others' # Default sector if no match is found\n",
    "    \n",
    "    sectors = final_dataset['sector']\n",
    "    \n",
    "    values  = [v for v in value.split(' ') if v.lower() not in stopwords]\n",
    "    \n",
    "    for v in values:\n",
    "         # Find the index of the sector in the sectors column\n",
    "        index_sector = np.where(sectors.str.lower().unique() == v.lower())[0] # Find the index of sector in unique sectors\n",
    "        \n",
    "        # If a match is found, assign the corresponding sector\n",
    "        if index_sector.size == 1:        \n",
    "            sector = sectors.unique()[index_sector[0]]              \n",
    "            break \n",
    "        # If no match is found, search for the word, v in the sector keywords dictionary and assign the corresponding sector \n",
    "        else:\n",
    "            sector = next((sector for sector, keywords in sector_keywords.items() if v.lower() in keywords), sector)\n",
    "    \n",
    "    return sector\n",
    "\n",
    "mask = final_dataset['sector'].isna()\n",
    "\n",
    "final_dataset.loc[mask, 'sector'] = final_dataset.loc[mask, 'what_it_does'].apply(fill_missing_sector)"
   ]
  },
  {
   "cell_type": "markdown",
   "metadata": {},
   "source": [
    "#### Replace falsely unique values or actual duplicates in categorical and string columns with their first occurence in the final_dataset"
   ]
  },
  {
   "cell_type": "code",
   "execution_count": 286,
   "metadata": {},
   "outputs": [],
   "source": [
    "# Heuristic Function to replace actual duplicates with first occurrence\n",
    "def replace_col_duplicates(column):\n",
    "    \"\"\"\n",
    "        Replaces duplicates values (identified through some heuristics) in a column with their first occurrence \n",
    "        Although the first occurrence might not be the best representation but it allows for consistency in values\n",
    "        \n",
    "        Parameter: column\n",
    "        Returns  : column with consistent representation of values\n",
    "    \n",
    "    \"\"\"\n",
    "    actual_strings = {}  # Dictionary to store the first occurrence of each modified string\n",
    "    \n",
    "    def replace_string(string):\n",
    "        actual_string = re.sub(r'[^\\w]', '', string).lower() if isinstance(string, str) else string   # Replace all special characters including whitespaces with '' \n",
    "        if actual_string in actual_strings:\n",
    "            return actual_strings[actual_string]\n",
    "        else:\n",
    "            actual_strings[actual_string] = string\n",
    "            return string\n",
    "    return column.apply(replace_string)"
   ]
  },
  {
   "cell_type": "code",
   "execution_count": 287,
   "metadata": {},
   "outputs": [],
   "source": [
    "columns_of_interest = ['company_brand', 'headquarter', 'sector', 'founders', 'investor', 'stage']"
   ]
  },
  {
   "cell_type": "code",
   "execution_count": 288,
   "metadata": {},
   "outputs": [],
   "source": [
    "def count_unique_values(columns):\n",
    "    for col in columns:\n",
    "        # Print count of unique items in columns of interest\n",
    "        print(f'{col}: {len(final_dataset[col].unique())}\\n')"
   ]
  },
  {
   "cell_type": "code",
   "execution_count": 289,
   "metadata": {},
   "outputs": [
    {
     "name": "stdout",
     "output_type": "stream",
     "text": [
      "company_brand: 2214\n",
      "\n",
      "headquarter: 131\n",
      "\n",
      "sector: 329\n",
      "\n",
      "founders: 1981\n",
      "\n",
      "investor: 1771\n",
      "\n",
      "stage: 72\n",
      "\n"
     ]
    }
   ],
   "source": [
    "# Count of unique values before running replace_col_duplicates function\n",
    "count_unique_values(columns_of_interest)"
   ]
  },
  {
   "cell_type": "code",
   "execution_count": 290,
   "metadata": {},
   "outputs": [],
   "source": [
    "# Apply the replace actual duplicates function to the string or categorical columns\n",
    "for col in columns_of_interest:\n",
    "    final_dataset[col] = replace_col_duplicates(final_dataset[col])"
   ]
  },
  {
   "cell_type": "code",
   "execution_count": 291,
   "metadata": {},
   "outputs": [
    {
     "name": "stdout",
     "output_type": "stream",
     "text": [
      "company_brand: 2133\n",
      "\n",
      "headquarter: 130\n",
      "\n",
      "sector: 297\n",
      "\n",
      "founders: 1970\n",
      "\n",
      "investor: 1731\n",
      "\n",
      "stage: 57\n",
      "\n"
     ]
    }
   ],
   "source": [
    "# Count of unique values after running replace_col_duplicates function\n",
    "count_unique_values(columns_of_interest)"
   ]
  },
  {
   "cell_type": "code",
   "execution_count": 292,
   "metadata": {},
   "outputs": [
    {
     "data": {
      "text/plain": [
       "company_brand      0\n",
       "founded          769\n",
       "headquarter      128\n",
       "sector             0\n",
       "what_it_does       0\n",
       "founders         545\n",
       "investor         630\n",
       "amount($)        556\n",
       "stage            940\n",
       "year               0\n",
       "dtype: int64"
      ]
     },
     "execution_count": 292,
     "metadata": {},
     "output_type": "execute_result"
    }
   ],
   "source": [
    "# Check the number of missing values in the columns of final dataset\n",
    "final_dataset.isna().sum()"
   ]
  },
  {
   "cell_type": "markdown",
   "metadata": {},
   "source": [
    "#### Drop duplicated rows in final data set"
   ]
  },
  {
   "cell_type": "code",
   "execution_count": 293,
   "metadata": {},
   "outputs": [],
   "source": [
    "# Drop duplicated from final dataset\n",
    "final_dataset.drop_duplicates(inplace=True)"
   ]
  },
  {
   "cell_type": "code",
   "execution_count": 294,
   "metadata": {},
   "outputs": [
    {
     "data": {
      "text/plain": [
       "company_brand      0\n",
       "founded          768\n",
       "headquarter      127\n",
       "sector             0\n",
       "what_it_does       0\n",
       "founders         544\n",
       "investor         628\n",
       "amount($)        554\n",
       "stage            931\n",
       "year               0\n",
       "dtype: int64"
      ]
     },
     "execution_count": 294,
     "metadata": {},
     "output_type": "execute_result"
    }
   ],
   "source": [
    "# Again, check the number of missing values in the columns of final dataset\n",
    "final_dataset.isna().sum()"
   ]
  },
  {
   "cell_type": "markdown",
   "metadata": {},
   "source": [
    "#### Change each column (founded and year) to appropriate Data types"
   ]
  },
  {
   "cell_type": "code",
   "execution_count": 295,
   "metadata": {},
   "outputs": [
    {
     "name": "stdout",
     "output_type": "stream",
     "text": [
      "<class 'pandas.core.frame.DataFrame'>\n",
      "Index: 2856 entries, 0 to 2878\n",
      "Data columns (total 10 columns):\n",
      " #   Column         Non-Null Count  Dtype  \n",
      "---  ------         --------------  -----  \n",
      " 0   company_brand  2856 non-null   object \n",
      " 1   founded        2088 non-null   float64\n",
      " 2   headquarter    2729 non-null   object \n",
      " 3   sector         2856 non-null   object \n",
      " 4   what_it_does   2856 non-null   object \n",
      " 5   founders       2312 non-null   object \n",
      " 6   investor       2228 non-null   object \n",
      " 7   amount($)      2302 non-null   float64\n",
      " 8   stage          1925 non-null   object \n",
      " 9   year           2856 non-null   int64  \n",
      "dtypes: float64(2), int64(1), object(7)\n",
      "memory usage: 245.4+ KB\n"
     ]
    }
   ],
   "source": [
    "final_dataset.info()"
   ]
  },
  {
   "cell_type": "code",
   "execution_count": 296,
   "metadata": {},
   "outputs": [],
   "source": [
    "# Founded is year and datatype should be integer 32 handling missing values gracefuly\n",
    "final_dataset['founded'] = final_dataset['founded'].astype('Int32') # Int32 instead of int32"
   ]
  },
  {
   "cell_type": "code",
   "execution_count": 297,
   "metadata": {},
   "outputs": [],
   "source": [
    "# Year does not need to be int64 but int32\n",
    "final_dataset['year'] = final_dataset['year'].astype('int32')"
   ]
  },
  {
   "cell_type": "code",
   "execution_count": 298,
   "metadata": {},
   "outputs": [
    {
     "name": "stdout",
     "output_type": "stream",
     "text": [
      "<class 'pandas.core.frame.DataFrame'>\n",
      "Index: 2856 entries, 0 to 2878\n",
      "Data columns (total 10 columns):\n",
      " #   Column         Non-Null Count  Dtype  \n",
      "---  ------         --------------  -----  \n",
      " 0   company_brand  2856 non-null   object \n",
      " 1   founded        2088 non-null   Int32  \n",
      " 2   headquarter    2729 non-null   object \n",
      " 3   sector         2856 non-null   object \n",
      " 4   what_it_does   2856 non-null   object \n",
      " 5   founders       2312 non-null   object \n",
      " 6   investor       2228 non-null   object \n",
      " 7   amount($)      2302 non-null   float64\n",
      " 8   stage          1925 non-null   object \n",
      " 9   year           2856 non-null   int32  \n",
      "dtypes: Int32(1), float64(1), int32(1), object(7)\n",
      "memory usage: 225.9+ KB\n"
     ]
    }
   ],
   "source": [
    "final_dataset.info()"
   ]
  },
  {
   "cell_type": "markdown",
   "metadata": {},
   "source": [
    "#### Handle missing values in the columns of the final dataset except company_brand, what_it_does and year which have no missing values"
   ]
  },
  {
   "cell_type": "code",
   "execution_count": 299,
   "metadata": {},
   "outputs": [
    {
     "data": {
      "text/html": [
       "<div>\n",
       "<style scoped>\n",
       "    .dataframe tbody tr th:only-of-type {\n",
       "        vertical-align: middle;\n",
       "    }\n",
       "\n",
       "    .dataframe tbody tr th {\n",
       "        vertical-align: top;\n",
       "    }\n",
       "\n",
       "    .dataframe thead th {\n",
       "        text-align: right;\n",
       "    }\n",
       "</style>\n",
       "<table border=\"1\" class=\"dataframe\">\n",
       "  <thead>\n",
       "    <tr style=\"text-align: right;\">\n",
       "      <th></th>\n",
       "      <th>company_brand</th>\n",
       "      <th>founded</th>\n",
       "      <th>headquarter</th>\n",
       "      <th>sector</th>\n",
       "      <th>what_it_does</th>\n",
       "      <th>founders</th>\n",
       "      <th>investor</th>\n",
       "      <th>amount($)</th>\n",
       "      <th>stage</th>\n",
       "      <th>year</th>\n",
       "    </tr>\n",
       "  </thead>\n",
       "  <tbody>\n",
       "    <tr>\n",
       "      <th>count</th>\n",
       "      <td>2856</td>\n",
       "      <td>2088.0</td>\n",
       "      <td>2729</td>\n",
       "      <td>2856</td>\n",
       "      <td>2856</td>\n",
       "      <td>2312</td>\n",
       "      <td>2228</td>\n",
       "      <td>2.302000e+03</td>\n",
       "      <td>1925</td>\n",
       "      <td>2856.000000</td>\n",
       "    </tr>\n",
       "    <tr>\n",
       "      <th>unique</th>\n",
       "      <td>2133</td>\n",
       "      <td>&lt;NA&gt;</td>\n",
       "      <td>128</td>\n",
       "      <td>297</td>\n",
       "      <td>2691</td>\n",
       "      <td>1968</td>\n",
       "      <td>1729</td>\n",
       "      <td>NaN</td>\n",
       "      <td>55</td>\n",
       "      <td>NaN</td>\n",
       "    </tr>\n",
       "    <tr>\n",
       "      <th>top</th>\n",
       "      <td>Byju's</td>\n",
       "      <td>&lt;NA&gt;</td>\n",
       "      <td>Bangalore</td>\n",
       "      <td>FinTech</td>\n",
       "      <td>BYJU'S is an educational technology company th...</td>\n",
       "      <td>Ashneer Grover, Shashvat Nakrani</td>\n",
       "      <td>Inflection Point Ventures</td>\n",
       "      <td>NaN</td>\n",
       "      <td>Seed</td>\n",
       "      <td>NaN</td>\n",
       "    </tr>\n",
       "    <tr>\n",
       "      <th>freq</th>\n",
       "      <td>11</td>\n",
       "      <td>&lt;NA&gt;</td>\n",
       "      <td>834</td>\n",
       "      <td>259</td>\n",
       "      <td>5</td>\n",
       "      <td>7</td>\n",
       "      <td>35</td>\n",
       "      <td>NaN</td>\n",
       "      <td>602</td>\n",
       "      <td>NaN</td>\n",
       "    </tr>\n",
       "    <tr>\n",
       "      <th>mean</th>\n",
       "      <td>NaN</td>\n",
       "      <td>2016.06705</td>\n",
       "      <td>NaN</td>\n",
       "      <td>NaN</td>\n",
       "      <td>NaN</td>\n",
       "      <td>NaN</td>\n",
       "      <td>NaN</td>\n",
       "      <td>1.214759e+08</td>\n",
       "      <td>NaN</td>\n",
       "      <td>2020.017857</td>\n",
       "    </tr>\n",
       "    <tr>\n",
       "      <th>std</th>\n",
       "      <td>NaN</td>\n",
       "      <td>4.368211</td>\n",
       "      <td>NaN</td>\n",
       "      <td>NaN</td>\n",
       "      <td>NaN</td>\n",
       "      <td>NaN</td>\n",
       "      <td>NaN</td>\n",
       "      <td>3.450413e+09</td>\n",
       "      <td>NaN</td>\n",
       "      <td>1.087759</td>\n",
       "    </tr>\n",
       "    <tr>\n",
       "      <th>min</th>\n",
       "      <td>NaN</td>\n",
       "      <td>1963.0</td>\n",
       "      <td>NaN</td>\n",
       "      <td>NaN</td>\n",
       "      <td>NaN</td>\n",
       "      <td>NaN</td>\n",
       "      <td>NaN</td>\n",
       "      <td>8.789400e+02</td>\n",
       "      <td>NaN</td>\n",
       "      <td>2018.000000</td>\n",
       "    </tr>\n",
       "    <tr>\n",
       "      <th>25%</th>\n",
       "      <td>NaN</td>\n",
       "      <td>2015.0</td>\n",
       "      <td>NaN</td>\n",
       "      <td>NaN</td>\n",
       "      <td>NaN</td>\n",
       "      <td>NaN</td>\n",
       "      <td>NaN</td>\n",
       "      <td>1.000000e+06</td>\n",
       "      <td>NaN</td>\n",
       "      <td>2020.000000</td>\n",
       "    </tr>\n",
       "    <tr>\n",
       "      <th>50%</th>\n",
       "      <td>NaN</td>\n",
       "      <td>2017.0</td>\n",
       "      <td>NaN</td>\n",
       "      <td>NaN</td>\n",
       "      <td>NaN</td>\n",
       "      <td>NaN</td>\n",
       "      <td>NaN</td>\n",
       "      <td>3.000000e+06</td>\n",
       "      <td>NaN</td>\n",
       "      <td>2020.000000</td>\n",
       "    </tr>\n",
       "    <tr>\n",
       "      <th>75%</th>\n",
       "      <td>NaN</td>\n",
       "      <td>2019.0</td>\n",
       "      <td>NaN</td>\n",
       "      <td>NaN</td>\n",
       "      <td>NaN</td>\n",
       "      <td>NaN</td>\n",
       "      <td>NaN</td>\n",
       "      <td>1.200000e+07</td>\n",
       "      <td>NaN</td>\n",
       "      <td>2021.000000</td>\n",
       "    </tr>\n",
       "    <tr>\n",
       "      <th>max</th>\n",
       "      <td>NaN</td>\n",
       "      <td>2021.0</td>\n",
       "      <td>NaN</td>\n",
       "      <td>NaN</td>\n",
       "      <td>NaN</td>\n",
       "      <td>NaN</td>\n",
       "      <td>NaN</td>\n",
       "      <td>1.500000e+11</td>\n",
       "      <td>NaN</td>\n",
       "      <td>2021.000000</td>\n",
       "    </tr>\n",
       "  </tbody>\n",
       "</table>\n",
       "</div>"
      ],
      "text/plain": [
       "       company_brand     founded headquarter   sector  \\\n",
       "count           2856      2088.0        2729     2856   \n",
       "unique          2133        <NA>         128      297   \n",
       "top           Byju's        <NA>   Bangalore  FinTech   \n",
       "freq              11        <NA>         834      259   \n",
       "mean             NaN  2016.06705         NaN      NaN   \n",
       "std              NaN    4.368211         NaN      NaN   \n",
       "min              NaN      1963.0         NaN      NaN   \n",
       "25%              NaN      2015.0         NaN      NaN   \n",
       "50%              NaN      2017.0         NaN      NaN   \n",
       "75%              NaN      2019.0         NaN      NaN   \n",
       "max              NaN      2021.0         NaN      NaN   \n",
       "\n",
       "                                             what_it_does  \\\n",
       "count                                                2856   \n",
       "unique                                               2691   \n",
       "top     BYJU'S is an educational technology company th...   \n",
       "freq                                                    5   \n",
       "mean                                                  NaN   \n",
       "std                                                   NaN   \n",
       "min                                                   NaN   \n",
       "25%                                                   NaN   \n",
       "50%                                                   NaN   \n",
       "75%                                                   NaN   \n",
       "max                                                   NaN   \n",
       "\n",
       "                                founders                   investor  \\\n",
       "count                               2312                       2228   \n",
       "unique                              1968                       1729   \n",
       "top     Ashneer Grover, Shashvat Nakrani  Inflection Point Ventures   \n",
       "freq                                   7                         35   \n",
       "mean                                 NaN                        NaN   \n",
       "std                                  NaN                        NaN   \n",
       "min                                  NaN                        NaN   \n",
       "25%                                  NaN                        NaN   \n",
       "50%                                  NaN                        NaN   \n",
       "75%                                  NaN                        NaN   \n",
       "max                                  NaN                        NaN   \n",
       "\n",
       "           amount($) stage         year  \n",
       "count   2.302000e+03  1925  2856.000000  \n",
       "unique           NaN    55          NaN  \n",
       "top              NaN  Seed          NaN  \n",
       "freq             NaN   602          NaN  \n",
       "mean    1.214759e+08   NaN  2020.017857  \n",
       "std     3.450413e+09   NaN     1.087759  \n",
       "min     8.789400e+02   NaN  2018.000000  \n",
       "25%     1.000000e+06   NaN  2020.000000  \n",
       "50%     3.000000e+06   NaN  2020.000000  \n",
       "75%     1.200000e+07   NaN  2021.000000  \n",
       "max     1.500000e+11   NaN  2021.000000  "
      ]
     },
     "execution_count": 299,
     "metadata": {},
     "output_type": "execute_result"
    }
   ],
   "source": [
    "final_dataset.describe(include='all')"
   ]
  },
  {
   "cell_type": "code",
   "execution_count": 300,
   "metadata": {},
   "outputs": [
    {
     "name": "stdout",
     "output_type": "stream",
     "text": [
      "<class 'pandas.core.frame.DataFrame'>\n",
      "Index: 2856 entries, 0 to 2878\n",
      "Data columns (total 10 columns):\n",
      " #   Column         Non-Null Count  Dtype  \n",
      "---  ------         --------------  -----  \n",
      " 0   company_brand  2856 non-null   object \n",
      " 1   founded        2088 non-null   Int32  \n",
      " 2   headquarter    2729 non-null   object \n",
      " 3   sector         2856 non-null   object \n",
      " 4   what_it_does   2856 non-null   object \n",
      " 5   founders       2312 non-null   object \n",
      " 6   investor       2228 non-null   object \n",
      " 7   amount($)      2302 non-null   float64\n",
      " 8   stage          1925 non-null   object \n",
      " 9   year           2856 non-null   int32  \n",
      "dtypes: Int32(1), float64(1), int32(1), object(7)\n",
      "memory usage: 225.9+ KB\n"
     ]
    }
   ],
   "source": [
    "final_dataset.info()"
   ]
  },
  {
   "cell_type": "code",
   "execution_count": 301,
   "metadata": {},
   "outputs": [
    {
     "data": {
      "text/plain": [
       "company_brand    False\n",
       "founded           True\n",
       "headquarter       True\n",
       "sector           False\n",
       "what_it_does     False\n",
       "founders          True\n",
       "investor          True\n",
       "amount($)         True\n",
       "stage             True\n",
       "year             False\n",
       "dtype: bool"
      ]
     },
     "execution_count": 301,
     "metadata": {},
     "output_type": "execute_result"
    }
   ],
   "source": [
    "final_dataset.isna().any()"
   ]
  },
  {
   "cell_type": "markdown",
   "metadata": {},
   "source": [
    "#### Founded column"
   ]
  },
  {
   "cell_type": "code",
   "execution_count": 302,
   "metadata": {},
   "outputs": [
    {
     "data": {
      "text/plain": [
       "<IntegerArray>\n",
       "[2019, 2018, 2020, 2016, 2008, 2015, 2017, 2014, 1998, 2007, 2011, 1982, 2013,\n",
       " 2009, 2012, 1995, 2010, 2006, 1978, <NA>, 1999, 1994, 2005, 1973, 2002, 2004,\n",
       " 2001, 2021, 1993, 1989, 2000, 2003, 1991, 1984, 1963]\n",
       "Length: 35, dtype: Int32"
      ]
     },
     "execution_count": 302,
     "metadata": {},
     "output_type": "execute_result"
    }
   ],
   "source": [
    "final_dataset['founded'].unique()"
   ]
  },
  {
   "cell_type": "code",
   "execution_count": 303,
   "metadata": {},
   "outputs": [],
   "source": [
    "# Impute missing values in 'founded' column with median by year\n",
    "founded_median_by_year = final_dataset['founded']"
   ]
  },
  {
   "cell_type": "markdown",
   "metadata": {},
   "source": [
    "### Stage column"
   ]
  },
  {
   "cell_type": "code",
   "execution_count": 304,
   "metadata": {},
   "outputs": [
    {
     "data": {
      "text/plain": [
       "array([None, 'Pre-seed', 'Seed', 'Pre-series A', 'Pre-series', 'Series C',\n",
       "       'Series A', 'Series B', 'Debt', 'Pre-series C', 'Pre-series B',\n",
       "       'Series E', 'Bridge', 'Series D', 'Series B2', 'Series F', 'Edge',\n",
       "       'Series H', 'Seed A', 'Series A-1', 'Seed Funding', 'Seed round',\n",
       "       'Pre-seed Round', 'Seed Round & Series A', 'Angel Round',\n",
       "       'Pre series A1', 'Series E2', 'Bridge Round', 'Seed Investment',\n",
       "       'Series D1', 'Mid series', 'Series C, D', nan, 'Series F2',\n",
       "       'Series G', 'Series B3', 'PE', 'Series F1', 'Early seed',\n",
       "       'Seies A', 'Series A2', 'Series I', 'Fresh funding',\n",
       "       'Post series A', 'Seed fund', 'Angel', 'Private Equity',\n",
       "       'Venture - Series Unknown', 'Grant', 'Debt Financing',\n",
       "       'Post-IPO Debt', 'Corporate Round', 'Undisclosed',\n",
       "       'Secondary Market', 'Post-IPO Equity', 'Non-equity Assistance',\n",
       "       'Funding Round'], dtype=object)"
      ]
     },
     "execution_count": 304,
     "metadata": {},
     "output_type": "execute_result"
    }
   ],
   "source": [
    "final_dataset['stage'].unique()"
   ]
  },
  {
   "cell_type": "markdown",
   "metadata": {},
   "source": [
    "### Fill missing values and replace Undisclosed values in 'stage' column with 'Venture - Series Unknown"
   ]
  },
  {
   "cell_type": "code",
   "execution_count": 305,
   "metadata": {},
   "outputs": [],
   "source": [
    "# Fill missing values in 'stage' column with 'Venture - Series Unknown\n",
    "final_dataset['stage'].fillna('Venture - Series Unknown', inplace=True)\n",
    "\n",
    "# Replace Undisclosed values in 'stage' column with 'Venture - Series Unknown\n",
    "final_dataset['stage'].replace(to_replace='Undisclosed', value='Venture - Series Unknown', inplace=True)\n"
   ]
  },
  {
   "cell_type": "code",
   "execution_count": 306,
   "metadata": {},
   "outputs": [
    {
     "data": {
      "text/plain": [
       "array(['Venture - Series Unknown', 'Pre-seed', 'Seed', 'Pre-series A',\n",
       "       'Pre-series', 'Series C', 'Series A', 'Series B', 'Debt',\n",
       "       'Pre-series C', 'Pre-series B', 'Series E', 'Bridge', 'Series D',\n",
       "       'Series B2', 'Series F', 'Edge', 'Series H', 'Seed A',\n",
       "       'Series A-1', 'Seed Funding', 'Seed round', 'Pre-seed Round',\n",
       "       'Seed Round & Series A', 'Angel Round', 'Pre series A1',\n",
       "       'Series E2', 'Bridge Round', 'Seed Investment', 'Series D1',\n",
       "       'Mid series', 'Series C, D', 'Series F2', 'Series G', 'Series B3',\n",
       "       'PE', 'Series F1', 'Early seed', 'Seies A', 'Series A2',\n",
       "       'Series I', 'Fresh funding', 'Post series A', 'Seed fund', 'Angel',\n",
       "       'Private Equity', 'Grant', 'Debt Financing', 'Post-IPO Debt',\n",
       "       'Corporate Round', 'Secondary Market', 'Post-IPO Equity',\n",
       "       'Non-equity Assistance', 'Funding Round'], dtype=object)"
      ]
     },
     "execution_count": 306,
     "metadata": {},
     "output_type": "execute_result"
    }
   ],
   "source": [
    "final_dataset['stage'].unique()"
   ]
  },
  {
   "cell_type": "code",
   "execution_count": 307,
   "metadata": {},
   "outputs": [
    {
     "data": {
      "text/plain": [
       "company_brand      0\n",
       "founded          768\n",
       "headquarter      127\n",
       "sector             0\n",
       "what_it_does       0\n",
       "founders         544\n",
       "investor         628\n",
       "amount($)        554\n",
       "stage              0\n",
       "year               0\n",
       "dtype: int64"
      ]
     },
     "execution_count": 307,
     "metadata": {},
     "output_type": "execute_result"
    }
   ],
   "source": [
    "final_dataset.isna().sum()"
   ]
  },
  {
   "cell_type": "markdown",
   "metadata": {},
   "source": [
    "#### Handling Missing Values in the Founders Column\n",
    "##### The dataset had 545 missing values for the founders, so we decided to drop the column for founders as we will not need it for analysis"
   ]
  },
  {
   "cell_type": "code",
   "execution_count": 308,
   "metadata": {},
   "outputs": [],
   "source": [
    "final_dataset.drop('founders', axis=1, inplace=True) "
   ]
  },
  {
   "cell_type": "markdown",
   "metadata": {},
   "source": [
    "#### Handling Missing Values in the Sector column\n",
    "##### The sector column had 18 missing values so we filled them with the value Unknown"
   ]
  },
  {
   "cell_type": "code",
   "execution_count": 309,
   "metadata": {},
   "outputs": [
    {
     "data": {
      "text/plain": [
       "array(['AgriTech', 'EdTech', 'Hygiene', 'Escrow', 'Networking', 'FinTech',\n",
       "       'Crowdsourcing', 'Food', 'HealthTech', 'Fashion', 'Virtual',\n",
       "       'E-commerce', 'Gaming', 'Work', 'AI', 'Telecommunication',\n",
       "       'Logistics', 'Tech', 'Sports', 'Retail', 'Medtech', 'Tyre',\n",
       "       'Cloud', 'Software', 'Venture', 'Renewable', 'IoT', 'SaaS', 'Aero',\n",
       "       'Marketing', 'Co-working', 'Finance', 'Solar', 'Video', 'Consumer',\n",
       "       'Blockchain', 'Real', 'beverages', 'HR', 'Job', 'Hospitality',\n",
       "       'Media', 'Dairy', 'Content', 'Spacetech', 'Transportation',\n",
       "       'Trading', 'Photonics', 'Entertainment', 'Cosmetics', 'Scanning',\n",
       "       'Skincare', 'Biotechnology', 'FoodTech', 'Proptech', 'CleanTech',\n",
       "       'Fitness', 'Healthcare', 'PaaS', 'Automobiles', 'Deeptech', 'EV',\n",
       "       'AR', 'Recruitment', 'QSR', 'Luxury', 'FM', 'Nutrition',\n",
       "       'HeathTech', 'LegalTech', 'Car', 'marketplace', 'Reatil', 'Design',\n",
       "       'Rental', 'Soil-Tech', 'Packaging', 'Sanitation', 'InsureTech',\n",
       "       'Jewellery', 'Multinational', 'Social', 'Publication',\n",
       "       'Entreprenurship', 'Warehouse', 'Online', 'Eyeglasses', 'Battery',\n",
       "       'credit', 'Beverage', 'TravelTech', 'Agriculture', 'Startup',\n",
       "       'Personal', 'Customer', 'SaaS\\xa0\\xa0startup', 'Service',\n",
       "       'Automotive', 'EdtTech', 'Manufacturing', 'Automation', 'WL',\n",
       "       'commerce', 'Home', 'API', 'Electricity', 'FMCG', 'Insurance',\n",
       "       'Biomaterial', 'Health', 'IT', 'Craft', 'Education', 'Investment',\n",
       "       'Spiritual', 'Construction', 'Nano', 'Dating', 'Mobility',\n",
       "       'Appliance', 'Automobile', 'B2B', 'Eye', 'Data', 'Co-living',\n",
       "       'Micro-mobiity', 'Auto-tech', 'Beauty', 'Robotics', 'wellness',\n",
       "       'Logitech', 'Life', 'Biotech', 'HrTech', 'Travel', 'Transport',\n",
       "       'Insurtech', 'Cryptocurrency', 'Celebrity', 'Legal', 'Supply',\n",
       "       'Pharma', 'Housing', 'Pharmaceutical', 'Pet', 'Analytics',\n",
       "       'Financial', 'Biopharma', 'Computer', 'Tourism', 'E', 'Technology',\n",
       "       'Interior', 'eMobility', 'E-market', 'E-tail', 'Accomodation',\n",
       "       'Machine', 'Sales', 'Estore', 'Pharmacy', 'Ad-tech', 'Neo-banking',\n",
       "       'Techonology', 'Preschool', 'E-connect', 'Consultancy',\n",
       "       'Foootwear', 'Deisgning', 'Taxation', 'Helathcare', 'Energy',\n",
       "       'Electronics', 'Aeorspace', 'Telecommuncation', 'Milk', 'Others',\n",
       "       'Skill', 'SportsTech', 'Wine', 'Industrial', 'Lifestyle',\n",
       "       'Banking', 'Digital', 'Furniture', 'Healtcare', 'Tobacco', 'MLOps',\n",
       "       'Drone', 'Wholesale', 'E-learning', 'OTT', 'Capital', 'Hospital',\n",
       "       'Music', 'Human', 'Hauz', 'Pharmaceuticals', 'Embedded', 'Mobile',\n",
       "       'Podcast', 'Water', 'Innovation', 'Cannabis', 'Blogging',\n",
       "       'Consulting', 'audio', 'Delivery', 'TaaS', 'Vehicle', 'Advisory',\n",
       "       'Pollution', 'D2C', 'Environmental', 'Merch', 'Facilities',\n",
       "       'Eyewear', 'Farming', 'NFT', 'Internet', 'community', 'Fishery',\n",
       "       'Renewables', 'Aviation', 'Heathcare', 'CRM', 'Commercial',\n",
       "       'MarTech', 'Advertisement', 'Augmented', 'FemTech', 'Cultural',\n",
       "       'Matrimony', 'Crypto', 'Clothing', 'Defense', 'Business',\n",
       "       'Company-as-a-Service', 'Textiles', 'Training', 'Maritime',\n",
       "       'Telecommunications', 'Equity', 'Nanotechnology', 'Information',\n",
       "       'Translation', 'Veterinary', 'Arts', 'Manchester', 'Product',\n",
       "       'Staffing', 'E-marketplace', 'E-Sports', 'Games', 'Mutual',\n",
       "       'Cybersecurity', 'Infratech', 'Market', 'Apps', 'Accounting',\n",
       "       'Artificial', 'Autonomous', 'Broadcasting', '—', 'Big',\n",
       "       'Communities', 'Advertising', 'Aerospace', 'Creative', 'AgTech',\n",
       "       'Events', '3D', 'Funding', 'Classifieds', 'Enterprise',\n",
       "       'Government', 'Children', 'Wealth', 'Medical', 'Dietary',\n",
       "       'Collaboration', 'File', 'Crowdfunding', 'Catering', 'Android',\n",
       "       'Basketball', 'Fraud', 'Wedding', 'Career', 'Alternative',\n",
       "       'Dental', 'Smart', 'Child', 'Search', 'Electric', 'Cooking',\n",
       "       'News'], dtype=object)"
      ]
     },
     "execution_count": 309,
     "metadata": {},
     "output_type": "execute_result"
    }
   ],
   "source": [
    "final_dataset['sector'].unique()"
   ]
  },
  {
   "cell_type": "code",
   "execution_count": 310,
   "metadata": {},
   "outputs": [],
   "source": [
    "# Filling the missing values in sector column with Unkownn\n",
    "final_dataset['sector'].fillna(\"Unknown\", inplace=True)\n"
   ]
  },
  {
   "cell_type": "code",
   "execution_count": 311,
   "metadata": {},
   "outputs": [
    {
     "data": {
      "text/plain": [
       "5"
      ]
     },
     "execution_count": 311,
     "metadata": {},
     "output_type": "execute_result"
    }
   ],
   "source": [
    "len(re.sub(r'[^\\,]', '', \"ar345547686,,4,5,,\"))"
   ]
  },
  {
   "cell_type": "markdown",
   "metadata": {},
   "source": [
    "#### Handling Missing values in the Investor Column\n",
    " "
   ]
  },
  {
   "cell_type": "code",
   "execution_count": 312,
   "metadata": {},
   "outputs": [],
   "source": [
    "# Calculate the mode for each sector in the 'investor' column\n",
    "mode_per_sector = final_dataset.groupby('sector')['investor'].transform(lambda x: x.mode().iloc[0] if not x.mode().empty else \"Unknown\")\n",
    "\n",
    "\n",
    "# Fill missing values in the 'investor' column with the calculated mode per sector\n",
    "final_dataset['investor'].fillna(mode_per_sector, inplace=True)\n"
   ]
  },
  {
   "cell_type": "code",
   "execution_count": 313,
   "metadata": {},
   "outputs": [
    {
     "data": {
      "text/plain": [
       "company_brand      0\n",
       "founded          768\n",
       "headquarter      127\n",
       "sector             0\n",
       "what_it_does       0\n",
       "investor           0\n",
       "amount($)        554\n",
       "stage              0\n",
       "year               0\n",
       "dtype: int64"
      ]
     },
     "execution_count": 313,
     "metadata": {},
     "output_type": "execute_result"
    }
   ],
   "source": [
    "final_dataset.isna().sum()\n"
   ]
  },
  {
   "cell_type": "markdown",
   "metadata": {},
   "source": [
    "#### Filling null values in the column for Head Quarter"
   ]
  },
  {
   "cell_type": "code",
   "execution_count": 314,
   "metadata": {},
   "outputs": [],
   "source": [
    "# Set seed for reproducibility\n",
    "np.random.seed(2024)\n",
    "\n",
    "# Identify the rows with missing 'headquarter' values\n",
    "mask = final_dataset['headquarter'].isna()\n",
    "\n",
    "# Get non-missing values for final_dataset['headquarter']\n",
    "non_missing_hq = final_dataset.loc[mask==False, 'headquarter'] \n",
    "\n",
    "hq_missing = mask.sum()\n",
    "\n",
    "# Randomly sample non-missing values to fill missing values of size hq_missing, 114\n",
    "hq_random = np.random.choice(non_missing_hq, size=hq_missing)\n",
    "\n",
    "# Fill missing values with randomly sampled headquarter values\n",
    "final_dataset.loc[mask, 'headquarter'] = hq_random\n"
   ]
  },
  {
   "cell_type": "code",
   "execution_count": 315,
   "metadata": {},
   "outputs": [
    {
     "data": {
      "text/plain": [
       "company_brand      0\n",
       "founded          768\n",
       "headquarter        0\n",
       "sector             0\n",
       "what_it_does       0\n",
       "investor           0\n",
       "amount($)        554\n",
       "stage              0\n",
       "year               0\n",
       "dtype: int64"
      ]
     },
     "execution_count": 315,
     "metadata": {},
     "output_type": "execute_result"
    }
   ],
   "source": [
    "final_dataset.isna().sum()\n"
   ]
  },
  {
   "cell_type": "markdown",
   "metadata": {},
   "source": [
    "#### Filling Null Values in Founded Column"
   ]
  },
  {
   "cell_type": "code",
   "execution_count": 316,
   "metadata": {},
   "outputs": [],
   "source": [
    "# Calculate the median founded grouped by year values\n",
    "founded_median_per_year = final_dataset.groupby('year')['founded'].median()\n",
    "\n",
    "# Calculate the overall median of median_per_year\n",
    "overall_median_per_year = founded_median_per_year.median()\n",
    "\n",
    "# Fill NaN values in founded_median_per_year with the overall median of median_per_year\n",
    "founded_median_per_year.fillna(overall_median_per_year, inplace=True)\n",
    "\n",
    "# Fill missing values in the 'founded' column with the calculated median per year\n",
    "final_dataset['founded'].fillna(final_dataset['year'].map(founded_median_per_year), inplace=True)"
   ]
  },
  {
   "cell_type": "markdown",
   "metadata": {},
   "source": [
    "#### Filling Null Values in the Amount column"
   ]
  },
  {
   "cell_type": "code",
   "execution_count": 317,
   "metadata": {},
   "outputs": [],
   "source": [
    "amount_median = final_dataset['amount($)'].median()\n",
    "final_dataset['amount($)'].fillna(amount_median, inplace=True)"
   ]
  },
  {
   "cell_type": "code",
   "execution_count": 318,
   "metadata": {},
   "outputs": [
    {
     "data": {
      "text/plain": [
       "company_brand    0\n",
       "founded          0\n",
       "headquarter      0\n",
       "sector           0\n",
       "what_it_does     0\n",
       "investor         0\n",
       "amount($)        0\n",
       "stage            0\n",
       "year             0\n",
       "dtype: int64"
      ]
     },
     "execution_count": 318,
     "metadata": {},
     "output_type": "execute_result"
    }
   ],
   "source": [
    "final_dataset.isna().sum()"
   ]
  },
  {
   "cell_type": "markdown",
   "metadata": {},
   "source": [
    "#### split the values in the investor column of the final_dataset DataFrame based on commas and replace each row's investor value with the correct split value without affecting other rows. "
   ]
  },
  {
   "cell_type": "code",
   "execution_count": 359,
   "metadata": {},
   "outputs": [
    {
     "name": "stdout",
     "output_type": "stream",
     "text": [
      "0             Angel investors\n",
      "1             GSF Accelerator\n",
      "2              Venture Center\n",
      "3            PointOne Capital\n",
      "4                   Info Edge\n",
      "                ...          \n",
      "2874       Info Edge Ventures\n",
      "2875    Mumbai Angels Network\n",
      "2876        Coatue Management\n",
      "2877           Blume Ventures\n",
      "2878                   1Crowd\n",
      "Name: investor, Length: 2856, dtype: object\n"
     ]
    }
   ],
   "source": [
    "# Split the 'investor' column by commas and expand into separate columns\n",
    "investor_split = final_dataset['investor'].str.split(',', expand=True)\n",
    "\n",
    "# Iterate over each column of the split DataFrame\n",
    "for col in investor_split.columns:\n",
    "    # Only replace non-null values in the original DataFrame\n",
    "    mask = ~investor_split[col].isnull()\n",
    "    final_dataset.loc[mask, 'investor'] = investor_split.loc[mask, col]\n",
    "\n",
    "# Display the updated DataFrame\n",
    "print(final_dataset['investor'])"
   ]
  },
  {
   "cell_type": "markdown",
   "metadata": {},
   "source": [
    "### Save datasets as flat files"
   ]
  },
  {
   "cell_type": "code",
   "execution_count": 320,
   "metadata": {},
   "outputs": [],
   "source": [
    "# Dataset from Microsoft SQL database\n",
    "# first_dataset.to_csv('DataSets/individual_csv/startup_funding2020-2021.csv')"
   ]
  },
  {
   "cell_type": "code",
   "execution_count": 321,
   "metadata": {},
   "outputs": [],
   "source": [
    "# Final merged dataset with cleaned column names and cleaned amount values\n",
    "# final_dataset.to_csv('DataSets/final_csv/startup_funding2018-2021.csv')"
   ]
  },
  {
   "cell_type": "code",
   "execution_count": 322,
   "metadata": {},
   "outputs": [
    {
     "data": {
      "text/plain": [
       "array([[<Axes: title={'center': 'founded'}>,\n",
       "        <Axes: title={'center': 'amount($)'}>],\n",
       "       [<Axes: title={'center': 'year'}>, <Axes: >]], dtype=object)"
      ]
     },
     "execution_count": 322,
     "metadata": {},
     "output_type": "execute_result"
    },
    {
     "data": {
      "image/png": "[encoded data removed]",
      "text/plain": [
       "<Figure size 640x480 with 4 Axes>"
      ]
     },
     "metadata": {},
     "output_type": "display_data"
    }
   ],
   "source": [
    "final_dataset.hist()"
   ]
  },
  {
   "cell_type": "markdown",
   "metadata": {},
   "source": [
    "#### Testing the Hypothesis"
   ]
  },
  {
   "cell_type": "code",
   "execution_count": 323,
   "metadata": {},
   "outputs": [],
   "source": [
    "startups_in_bangalore = final_dataset[final_dataset['headquarter']=='Bangalore']\n",
    "startups_not_in_bangalore = final_dataset[final_dataset['headquarter']!='Bangalore']"
   ]
  },
  {
   "cell_type": "code",
   "execution_count": 324,
   "metadata": {},
   "outputs": [
    {
     "name": "stdout",
     "output_type": "stream",
     "text": [
      "t-value:-0.7902591275165513\n",
      "p-value:0.4294421075760738\n"
     ]
    }
   ],
   "source": [
    "t,p =stats.ttest_ind(startups_in_bangalore['amount($)'],startups_not_in_bangalore['amount($)'])\n",
    "print(f't-value:{t}')\n",
    "print(f'p-value:{p}')"
   ]
  },
  {
   "cell_type": "code",
   "execution_count": 325,
   "metadata": {},
   "outputs": [
    {
     "name": "stdout",
     "output_type": "stream",
     "text": [
      "We failed to reject the null hypothesis. There is a significant difference in the amount of funding between startups in Bangalore.\n"
     ]
    }
   ],
   "source": [
    "# Set Significance level\n",
    "alpha = 0.05\n",
    "\n",
    "#Compare p-value to the significance level\n",
    "if p < alpha:\n",
    "    print(\"We reject the null hypothesis. Which is there is no significant difference in the amount of funding between startups in Bangalore.\")\n",
    "else:\n",
    "   print(\"We failed to reject the null hypothesis. There is a significant difference in the amount of funding between startups in Bangalore.\")"
   ]
  },
  {
   "cell_type": "code",
   "execution_count": 326,
   "metadata": {},
   "outputs": [
    {
     "data": {
      "text/html": [
       "<div>\n",
       "<style scoped>\n",
       "    .dataframe tbody tr th:only-of-type {\n",
       "        vertical-align: middle;\n",
       "    }\n",
       "\n",
       "    .dataframe tbody tr th {\n",
       "        vertical-align: top;\n",
       "    }\n",
       "\n",
       "    .dataframe thead th {\n",
       "        text-align: right;\n",
       "    }\n",
       "</style>\n",
       "<table border=\"1\" class=\"dataframe\">\n",
       "  <thead>\n",
       "    <tr style=\"text-align: right;\">\n",
       "      <th></th>\n",
       "      <th>company_brand</th>\n",
       "      <th>founded</th>\n",
       "      <th>headquarter</th>\n",
       "      <th>sector</th>\n",
       "      <th>what_it_does</th>\n",
       "      <th>investor</th>\n",
       "      <th>amount($)</th>\n",
       "      <th>stage</th>\n",
       "      <th>year</th>\n",
       "    </tr>\n",
       "  </thead>\n",
       "  <tbody>\n",
       "    <tr>\n",
       "      <th>count</th>\n",
       "      <td>2856</td>\n",
       "      <td>2856.0</td>\n",
       "      <td>2856</td>\n",
       "      <td>2856</td>\n",
       "      <td>2856</td>\n",
       "      <td>2856</td>\n",
       "      <td>2.856000e+03</td>\n",
       "      <td>2856</td>\n",
       "      <td>2856.000000</td>\n",
       "    </tr>\n",
       "    <tr>\n",
       "      <th>unique</th>\n",
       "      <td>2133</td>\n",
       "      <td>&lt;NA&gt;</td>\n",
       "      <td>128</td>\n",
       "      <td>297</td>\n",
       "      <td>2691</td>\n",
       "      <td>1453</td>\n",
       "      <td>NaN</td>\n",
       "      <td>54</td>\n",
       "      <td>NaN</td>\n",
       "    </tr>\n",
       "    <tr>\n",
       "      <th>top</th>\n",
       "      <td>Byju's</td>\n",
       "      <td>&lt;NA&gt;</td>\n",
       "      <td>Bangalore</td>\n",
       "      <td>FinTech</td>\n",
       "      <td>BYJU'S is an educational technology company th...</td>\n",
       "      <td>Unknown</td>\n",
       "      <td>NaN</td>\n",
       "      <td>Venture - Series Unknown</td>\n",
       "      <td>NaN</td>\n",
       "    </tr>\n",
       "    <tr>\n",
       "      <th>freq</th>\n",
       "      <td>11</td>\n",
       "      <td>&lt;NA&gt;</td>\n",
       "      <td>866</td>\n",
       "      <td>259</td>\n",
       "      <td>5</td>\n",
       "      <td>129</td>\n",
       "      <td>NaN</td>\n",
       "      <td>970</td>\n",
       "      <td>NaN</td>\n",
       "    </tr>\n",
       "    <tr>\n",
       "      <th>mean</th>\n",
       "      <td>NaN</td>\n",
       "      <td>2016.039566</td>\n",
       "      <td>NaN</td>\n",
       "      <td>NaN</td>\n",
       "      <td>NaN</td>\n",
       "      <td>NaN</td>\n",
       "      <td>9.849421e+07</td>\n",
       "      <td>NaN</td>\n",
       "      <td>2020.017857</td>\n",
       "    </tr>\n",
       "    <tr>\n",
       "      <th>std</th>\n",
       "      <td>NaN</td>\n",
       "      <td>3.73653</td>\n",
       "      <td>NaN</td>\n",
       "      <td>NaN</td>\n",
       "      <td>NaN</td>\n",
       "      <td>NaN</td>\n",
       "      <td>3.097961e+09</td>\n",
       "      <td>NaN</td>\n",
       "      <td>1.087759</td>\n",
       "    </tr>\n",
       "    <tr>\n",
       "      <th>min</th>\n",
       "      <td>NaN</td>\n",
       "      <td>1963.0</td>\n",
       "      <td>NaN</td>\n",
       "      <td>NaN</td>\n",
       "      <td>NaN</td>\n",
       "      <td>NaN</td>\n",
       "      <td>8.789400e+02</td>\n",
       "      <td>NaN</td>\n",
       "      <td>2018.000000</td>\n",
       "    </tr>\n",
       "    <tr>\n",
       "      <th>25%</th>\n",
       "      <td>NaN</td>\n",
       "      <td>2015.0</td>\n",
       "      <td>NaN</td>\n",
       "      <td>NaN</td>\n",
       "      <td>NaN</td>\n",
       "      <td>NaN</td>\n",
       "      <td>1.000000e+06</td>\n",
       "      <td>NaN</td>\n",
       "      <td>2020.000000</td>\n",
       "    </tr>\n",
       "    <tr>\n",
       "      <th>50%</th>\n",
       "      <td>NaN</td>\n",
       "      <td>2016.0</td>\n",
       "      <td>NaN</td>\n",
       "      <td>NaN</td>\n",
       "      <td>NaN</td>\n",
       "      <td>NaN</td>\n",
       "      <td>3.000000e+06</td>\n",
       "      <td>NaN</td>\n",
       "      <td>2020.000000</td>\n",
       "    </tr>\n",
       "    <tr>\n",
       "      <th>75%</th>\n",
       "      <td>NaN</td>\n",
       "      <td>2018.0</td>\n",
       "      <td>NaN</td>\n",
       "      <td>NaN</td>\n",
       "      <td>NaN</td>\n",
       "      <td>NaN</td>\n",
       "      <td>8.000000e+06</td>\n",
       "      <td>NaN</td>\n",
       "      <td>2021.000000</td>\n",
       "    </tr>\n",
       "    <tr>\n",
       "      <th>max</th>\n",
       "      <td>NaN</td>\n",
       "      <td>2021.0</td>\n",
       "      <td>NaN</td>\n",
       "      <td>NaN</td>\n",
       "      <td>NaN</td>\n",
       "      <td>NaN</td>\n",
       "      <td>1.500000e+11</td>\n",
       "      <td>NaN</td>\n",
       "      <td>2021.000000</td>\n",
       "    </tr>\n",
       "  </tbody>\n",
       "</table>\n",
       "</div>"
      ],
      "text/plain": [
       "       company_brand      founded headquarter   sector  \\\n",
       "count           2856       2856.0        2856     2856   \n",
       "unique          2133         <NA>         128      297   \n",
       "top           Byju's         <NA>   Bangalore  FinTech   \n",
       "freq              11         <NA>         866      259   \n",
       "mean             NaN  2016.039566         NaN      NaN   \n",
       "std              NaN      3.73653         NaN      NaN   \n",
       "min              NaN       1963.0         NaN      NaN   \n",
       "25%              NaN       2015.0         NaN      NaN   \n",
       "50%              NaN       2016.0         NaN      NaN   \n",
       "75%              NaN       2018.0         NaN      NaN   \n",
       "max              NaN       2021.0         NaN      NaN   \n",
       "\n",
       "                                             what_it_does investor  \\\n",
       "count                                                2856     2856   \n",
       "unique                                               2691     1453   \n",
       "top     BYJU'S is an educational technology company th...  Unknown   \n",
       "freq                                                    5      129   \n",
       "mean                                                  NaN      NaN   \n",
       "std                                                   NaN      NaN   \n",
       "min                                                   NaN      NaN   \n",
       "25%                                                   NaN      NaN   \n",
       "50%                                                   NaN      NaN   \n",
       "75%                                                   NaN      NaN   \n",
       "max                                                   NaN      NaN   \n",
       "\n",
       "           amount($)                     stage         year  \n",
       "count   2.856000e+03                      2856  2856.000000  \n",
       "unique           NaN                        54          NaN  \n",
       "top              NaN  Venture - Series Unknown          NaN  \n",
       "freq             NaN                       970          NaN  \n",
       "mean    9.849421e+07                       NaN  2020.017857  \n",
       "std     3.097961e+09                       NaN     1.087759  \n",
       "min     8.789400e+02                       NaN  2018.000000  \n",
       "25%     1.000000e+06                       NaN  2020.000000  \n",
       "50%     3.000000e+06                       NaN  2020.000000  \n",
       "75%     8.000000e+06                       NaN  2021.000000  \n",
       "max     1.500000e+11                       NaN  2021.000000  "
      ]
     },
     "execution_count": 326,
     "metadata": {},
     "output_type": "execute_result"
    }
   ],
   "source": [
    "final_dataset.describe(include=\"all\")"
   ]
  },
  {
   "cell_type": "code",
   "execution_count": 327,
   "metadata": {},
   "outputs": [
    {
     "name": "stdout",
     "output_type": "stream",
     "text": [
      "<class 'pandas.core.frame.DataFrame'>\n",
      "Index: 2856 entries, 0 to 2878\n",
      "Data columns (total 9 columns):\n",
      " #   Column         Non-Null Count  Dtype  \n",
      "---  ------         --------------  -----  \n",
      " 0   company_brand  2856 non-null   object \n",
      " 1   founded        2856 non-null   Int32  \n",
      " 2   headquarter    2856 non-null   object \n",
      " 3   sector         2856 non-null   object \n",
      " 4   what_it_does   2856 non-null   object \n",
      " 5   investor       2856 non-null   object \n",
      " 6   amount($)      2856 non-null   float64\n",
      " 7   stage          2856 non-null   object \n",
      " 8   year           2856 non-null   int32  \n",
      "dtypes: Int32(1), float64(1), int32(1), object(6)\n",
      "memory usage: 203.6+ KB\n"
     ]
    }
   ],
   "source": [
    "final_dataset.info()"
   ]
  },
  {
   "cell_type": "code",
   "execution_count": 328,
   "metadata": {},
   "outputs": [
    {
     "data": {
      "text/plain": [
       "company_brand    0\n",
       "founded          0\n",
       "headquarter      0\n",
       "sector           0\n",
       "what_it_does     0\n",
       "investor         0\n",
       "amount($)        0\n",
       "stage            0\n",
       "year             0\n",
       "dtype: int64"
      ]
     },
     "execution_count": 328,
     "metadata": {},
     "output_type": "execute_result"
    }
   ],
   "source": [
    "final_dataset.isna().sum()"
   ]
  },
  {
   "cell_type": "markdown",
   "metadata": {},
   "source": [
    "### Exploratory Data Analysis (EDA)"
   ]
  },
  {
   "cell_type": "code",
   "execution_count": 329,
   "metadata": {},
   "outputs": [
    {
     "data": {
      "text/html": [
       "<div>\n",
       "<style scoped>\n",
       "    .dataframe tbody tr th:only-of-type {\n",
       "        vertical-align: middle;\n",
       "    }\n",
       "\n",
       "    .dataframe tbody tr th {\n",
       "        vertical-align: top;\n",
       "    }\n",
       "\n",
       "    .dataframe thead th {\n",
       "        text-align: right;\n",
       "    }\n",
       "</style>\n",
       "<table border=\"1\" class=\"dataframe\">\n",
       "  <thead>\n",
       "    <tr style=\"text-align: right;\">\n",
       "      <th></th>\n",
       "      <th>founded</th>\n",
       "      <th>amount($)</th>\n",
       "      <th>year</th>\n",
       "    </tr>\n",
       "  </thead>\n",
       "  <tbody>\n",
       "    <tr>\n",
       "      <th>count</th>\n",
       "      <td>2856.0</td>\n",
       "      <td>2.856000e+03</td>\n",
       "      <td>2856.000000</td>\n",
       "    </tr>\n",
       "    <tr>\n",
       "      <th>mean</th>\n",
       "      <td>2016.039566</td>\n",
       "      <td>9.849421e+07</td>\n",
       "      <td>2020.017857</td>\n",
       "    </tr>\n",
       "    <tr>\n",
       "      <th>std</th>\n",
       "      <td>3.73653</td>\n",
       "      <td>3.097961e+09</td>\n",
       "      <td>1.087759</td>\n",
       "    </tr>\n",
       "    <tr>\n",
       "      <th>min</th>\n",
       "      <td>1963.0</td>\n",
       "      <td>8.789400e+02</td>\n",
       "      <td>2018.000000</td>\n",
       "    </tr>\n",
       "    <tr>\n",
       "      <th>25%</th>\n",
       "      <td>2015.0</td>\n",
       "      <td>1.000000e+06</td>\n",
       "      <td>2020.000000</td>\n",
       "    </tr>\n",
       "    <tr>\n",
       "      <th>50%</th>\n",
       "      <td>2016.0</td>\n",
       "      <td>3.000000e+06</td>\n",
       "      <td>2020.000000</td>\n",
       "    </tr>\n",
       "    <tr>\n",
       "      <th>75%</th>\n",
       "      <td>2018.0</td>\n",
       "      <td>8.000000e+06</td>\n",
       "      <td>2021.000000</td>\n",
       "    </tr>\n",
       "    <tr>\n",
       "      <th>max</th>\n",
       "      <td>2021.0</td>\n",
       "      <td>1.500000e+11</td>\n",
       "      <td>2021.000000</td>\n",
       "    </tr>\n",
       "  </tbody>\n",
       "</table>\n",
       "</div>"
      ],
      "text/plain": [
       "           founded     amount($)         year\n",
       "count       2856.0  2.856000e+03  2856.000000\n",
       "mean   2016.039566  9.849421e+07  2020.017857\n",
       "std        3.73653  3.097961e+09     1.087759\n",
       "min         1963.0  8.789400e+02  2018.000000\n",
       "25%         2015.0  1.000000e+06  2020.000000\n",
       "50%         2016.0  3.000000e+06  2020.000000\n",
       "75%         2018.0  8.000000e+06  2021.000000\n",
       "max         2021.0  1.500000e+11  2021.000000"
      ]
     },
     "execution_count": 329,
     "metadata": {},
     "output_type": "execute_result"
    }
   ],
   "source": [
    "final_dataset.describe()"
   ]
  },
  {
   "cell_type": "markdown",
   "metadata": {},
   "source": [
    "- **Founded Year**: The startups in the dataset were founded between 1963 and 2021, with an average founding year of approximately 2016. The majority of startups were founded after 2015.\n",
    "\n",
    "- **Funding Amount**: The funding amounts range from $878.94 to $150 billion, with an average funding amount of around $98.5 million. However, there is a notable standard deviation of approximately $3.1 billion, indicating significant variance in funding received among startups.\n",
    "\n",
    "- **Year**: The dataset spans from 2018 to 2021, with most startups receiving funding in 2020 and 2021. The median funding year is also 2020."
   ]
  },
  {
   "cell_type": "markdown",
   "metadata": {},
   "source": [
    "### Answering the Business Questions With Visuals"
   ]
  },
  {
   "cell_type": "markdown",
   "metadata": {},
   "source": [
    "####"
   ]
  },
  {
   "cell_type": "markdown",
   "metadata": {},
   "source": [
    "##### Q1.What sectors have shown the highest growth in terms of funding received over the past four years?"
   ]
  },
  {
   "cell_type": "code",
   "execution_count": 330,
   "metadata": {},
   "outputs": [],
   "source": [
    "year_sector_2018 = final_dataset[final_dataset['year']==2018]\n",
    "year_sector_2019 = final_dataset[final_dataset['year']==2019]\n",
    "year_sector_2020 = final_dataset[final_dataset['year']==2020]\n",
    "year_sector_2021 = final_dataset[final_dataset['year']==2021]\n",
    "\n",
    "\n",
    "#Group 2018 data by sector and get the sum of the amount\n",
    "sector_year_funding_2018 = year_sector_2018.groupby('sector')['amount($)'].sum()/ 1e9\n",
    "sector_year_funding_2018_reset = sector_year_funding_2018.reset_index().sort_values(by='amount($)', ascending=False).head(5)\n",
    "\n",
    "#Group 2019 data by sector and get the sum of the amount\n",
    "sector_year_funding_2019 = year_sector_2019.groupby('sector')['amount($)'].sum()/ 1e9\n",
    "sector_year_funding_2019_reset = sector_year_funding_2019.reset_index().sort_values(by='amount($)', ascending=False).head(5)\n",
    "\n",
    "#Group 2020 data by sector and get the sum of the amount\n",
    "sector_year_funding_2020 = year_sector_2020.groupby('sector')['amount($)'].sum()/ 1e9\n",
    "sector_year_funding_2020_reset = sector_year_funding_2020.reset_index().sort_values(by='amount($)', ascending=False).head(5)\n",
    "\n",
    "#Group 2021 data by sector and get the sum of the amount\n",
    "sector_year_funding_2021 = year_sector_2021.groupby('sector')['amount($)'].sum()/ 1e9\n",
    "sector_year_funding_2021_reset = sector_year_funding_2021.reset_index().sort_values(by='amount($)', ascending=False).head(5)\n"
   ]
  },
  {
   "cell_type": "markdown",
   "metadata": {},
   "source": [
    "#### Visualizing"
   ]
  },
  {
   "cell_type": "code",
   "execution_count": 331,
   "metadata": {},
   "outputs": [
    {
     "data": {
      "image/png": "[encoded data removed]",
      "text/plain": [
       "<Figure size 2000x1000 with 4 Axes>"
      ]
     },
     "metadata": {},
     "output_type": "display_data"
    }
   ],
   "source": [
    "fig, axes = plt.subplots(nrows=2, ncols=2, figsize=(20, 10))\n",
    "\n",
    "# Function to annotate each bar with the amount\n",
    "def annotate_bars(data, ax):\n",
    "    for index, value in enumerate(data['amount($)']):\n",
    "        ax.text(value, index, f'{value:.2f}B', ha='left', va='center', fontsize=10)\n",
    "\n",
    "# Plotting for 2018\n",
    "sns.barplot(x='amount($)', y='sector', data=sector_year_funding_2018_reset, palette=\"mako\", ax=axes[0, 0])\n",
    "annotate_bars(sector_year_funding_2018_reset, axes[0, 0])\n",
    "axes[0, 0].set_title('Top 5 Sectors with Highest Growth in Funding in 2018')\n",
    "axes[0, 0].set_xlabel('Average Growth in Funding (In Billions)')\n",
    "\n",
    "# Plotting for 2019\n",
    "sns.barplot(x='amount($)', y='sector', data=sector_year_funding_2019_reset, palette=\"mako\", ax=axes[0, 1])\n",
    "annotate_bars(sector_year_funding_2019_reset, axes[0, 1])\n",
    "axes[0, 1].set_title('Top 5 Sectors with Highest Growth in Funding in 2019')\n",
    "axes[0, 1].set_xlabel('Average Growth in Funding (In Billions)')\n",
    "\n",
    "# Plotting for 2020\n",
    "sns.barplot(x='amount($)', y='sector', data=sector_year_funding_2020_reset, palette=\"mako\", ax=axes[1, 0])\n",
    "annotate_bars(sector_year_funding_2020_reset, axes[1, 0])\n",
    "axes[1, 0].set_title('Top 5 Sectors with Highest Growth in Funding in 2020')\n",
    "axes[1, 0].set_xlabel('Average Growth in Funding (In Billions)')\n",
    "\n",
    "# Plotting for 2021\n",
    "sns.barplot(x='amount($)', y='sector', data=sector_year_funding_2021_reset, palette=\"mako\", ax=axes[1, 1])\n",
    "annotate_bars(sector_year_funding_2021_reset, axes[1, 1])\n",
    "axes[1, 1].set_title('Top 5 Sectors with Highest Growth in Funding in 2021')\n",
    "axes[1, 1].set_xlabel('Average Growth in Funding (In Billions)')\n",
    "\n",
    "# Adjust layout\n",
    "plt.tight_layout()\n",
    "\n",
    "# Show the plots\n",
    "plt.show()"
   ]
  },
  {
   "cell_type": "markdown",
   "metadata": {},
   "source": [
    "#### Summary on the visualizations"
   ]
  },
  {
   "cell_type": "markdown",
   "metadata": {},
   "source": [
    "- 2018: The Food sector showed the highest growth in funding, However, it did not appear in the top 5 sectors for the following years (2019, 2020, and 2021). This could indicate that while there was a surge in funding for the Food sector in 2018, the growth did not sustain in the subsequent years.\n",
    "\n",
    "- 2019: The EdTech sector led in terms of funding growth However, similar to the Food sector, it did not appear in the top 5 sectors in 2020 and 2021. This could suggest a temporary spike in funding growth for the EdTech sector in 2019.\n",
    "\n",
    "- 2020: The Retail sector showed the highest growth in funding in 2020 with 70.54 billion dollars. However, it did not appear in the top sectors in the other years. This might indicate a sudden increase in funding for the Retail sector in 2020.\n",
    "\n",
    "- 2021: The FinTech sector showed a massive increase in funding growth, indicating a strong interest from investors in this sector in that year. It was also among the top sectors in 2020, suggesting a consistent growth in this sector over the years."
   ]
  },
  {
   "cell_type": "markdown",
   "metadata": {},
   "source": [
    "##### Q2.What locations within India have emerged as the primary hubs for startup activity and investment, and what factors contribute to their prominence?"
   ]
  },
  {
   "cell_type": "markdown",
   "metadata": {},
   "source": [
    "##### First answering Locations with higest investment"
   ]
  },
  {
   "cell_type": "code",
   "execution_count": 332,
   "metadata": {},
   "outputs": [],
   "source": [
    "# Grouping the dataset based on the headquarters\n",
    "startups_by_location = final_dataset.groupby('headquarter')['amount($)'].sum()\n",
    "# Reset the index before assigning column names\n",
    "top_10_locations_by_investment = startups_by_location.reset_index().sort_values(by ='amount($)', ascending = False).head(10)\n",
    "top_10_locations_by_investment['growth_billions'] = top_10_locations_by_investment['amount($)'] / 1e9\n",
    "\n",
    "# Assign column names\n",
    "top_10_locations_by_investment.columns = ['headquarter', 'amount($)', 'growth_billions']\n",
    "# Add a column for the rank\n",
    "top_10_locations_by_investment['rank'] = top_10_locations_by_investment.reset_index().index + 1"
   ]
  },
  {
   "cell_type": "code",
   "execution_count": 333,
   "metadata": {},
   "outputs": [],
   "source": [
    "# Initialize the Nominatim geocoder\n",
    "geolocator = Nominatim(user_agent=\"my_geocoder\")\n",
    "\n",
    "# Function to retrieve coordinates for a location\n",
    "def get_coordinates(location):\n",
    "    try:\n",
    "        location_info = geolocator.geocode(location)\n",
    "        if location_info:\n",
    "            return location_info.latitude, location_info.longitude\n",
    "        else:\n",
    "            print(f\"Warning: Coordinates not found for {location}. Skipping.\")\n",
    "            return None, None\n",
    "    except Exception as e:\n",
    "        print(f\"Error retrieving coordinates for {location}: {str(e)}\")\n",
    "        return None, None"
   ]
  },
  {
   "cell_type": "markdown",
   "metadata": {},
   "source": [
    "#####\n",
    " The **get_coordinates()** function serves to retrieve latitude and longitude coordinates for a specified location using the Nominatim geocoding service. Given a location string as input, the function queries the geocoder to obtain location information. If successful, it extracts and returns the latitude and longitude coordinates from the retrieved data. In cases where the geocoder fails to find coordinates for the given location, the function issues a warning. Additionally, any encountered errors during the retrieval process are logged for debugging purposes."
   ]
  },
  {
   "cell_type": "code",
   "execution_count": 334,
   "metadata": {},
   "outputs": [
    {
     "data": {
      "text/html": [
       "<div>\n",
       "<style scoped>\n",
       "    .dataframe tbody tr th:only-of-type {\n",
       "        vertical-align: middle;\n",
       "    }\n",
       "\n",
       "    .dataframe tbody tr th {\n",
       "        vertical-align: top;\n",
       "    }\n",
       "\n",
       "    .dataframe thead th {\n",
       "        text-align: right;\n",
       "    }\n",
       "</style>\n",
       "<table border=\"1\" class=\"dataframe\">\n",
       "  <thead>\n",
       "    <tr style=\"text-align: right;\">\n",
       "      <th></th>\n",
       "      <th>headquarter</th>\n",
       "      <th>amount($)</th>\n",
       "      <th>growth_billions</th>\n",
       "      <th>rank</th>\n",
       "      <th>Latitude</th>\n",
       "      <th>Longitude</th>\n",
       "    </tr>\n",
       "  </thead>\n",
       "  <tbody>\n",
       "    <tr>\n",
       "      <th>74</th>\n",
       "      <td>Mumbai</td>\n",
       "      <td>2.311084e+11</td>\n",
       "      <td>231.108427</td>\n",
       "      <td>1</td>\n",
       "      <td>19.078545</td>\n",
       "      <td>72.878176</td>\n",
       "    </tr>\n",
       "    <tr>\n",
       "      <th>9</th>\n",
       "      <td>Bangalore</td>\n",
       "      <td>2.515363e+10</td>\n",
       "      <td>25.153630</td>\n",
       "      <td>2</td>\n",
       "      <td>12.976794</td>\n",
       "      <td>77.590082</td>\n",
       "    </tr>\n",
       "    <tr>\n",
       "      <th>42</th>\n",
       "      <td>Gurugram</td>\n",
       "      <td>5.487438e+09</td>\n",
       "      <td>5.487438</td>\n",
       "      <td>3</td>\n",
       "      <td>28.464615</td>\n",
       "      <td>77.029919</td>\n",
       "    </tr>\n",
       "    <tr>\n",
       "      <th>77</th>\n",
       "      <td>New Delhi</td>\n",
       "      <td>3.600349e+09</td>\n",
       "      <td>3.600349</td>\n",
       "      <td>4</td>\n",
       "      <td>28.613895</td>\n",
       "      <td>77.209006</td>\n",
       "    </tr>\n",
       "    <tr>\n",
       "      <th>21</th>\n",
       "      <td>California</td>\n",
       "      <td>3.081300e+09</td>\n",
       "      <td>3.081300</td>\n",
       "      <td>5</td>\n",
       "      <td>36.701463</td>\n",
       "      <td>-118.755997</td>\n",
       "    </tr>\n",
       "    <tr>\n",
       "      <th>41</th>\n",
       "      <td>Gurgaon</td>\n",
       "      <td>1.462202e+09</td>\n",
       "      <td>1.462202</td>\n",
       "      <td>6</td>\n",
       "      <td>28.428262</td>\n",
       "      <td>77.002700</td>\n",
       "    </tr>\n",
       "    <tr>\n",
       "      <th>90</th>\n",
       "      <td>Pune</td>\n",
       "      <td>1.354979e+09</td>\n",
       "      <td>1.354979</td>\n",
       "      <td>7</td>\n",
       "      <td>18.521428</td>\n",
       "      <td>73.854454</td>\n",
       "    </tr>\n",
       "    <tr>\n",
       "      <th>23</th>\n",
       "      <td>Chennai</td>\n",
       "      <td>1.181153e+09</td>\n",
       "      <td>1.181153</td>\n",
       "      <td>8</td>\n",
       "      <td>13.083694</td>\n",
       "      <td>80.270186</td>\n",
       "    </tr>\n",
       "    <tr>\n",
       "      <th>28</th>\n",
       "      <td>Delhi</td>\n",
       "      <td>9.798537e+08</td>\n",
       "      <td>0.979854</td>\n",
       "      <td>9</td>\n",
       "      <td>28.627393</td>\n",
       "      <td>77.171695</td>\n",
       "    </tr>\n",
       "    <tr>\n",
       "      <th>44</th>\n",
       "      <td>Haryana</td>\n",
       "      <td>9.379950e+08</td>\n",
       "      <td>0.937995</td>\n",
       "      <td>10</td>\n",
       "      <td>29.000000</td>\n",
       "      <td>76.000000</td>\n",
       "    </tr>\n",
       "  </tbody>\n",
       "</table>\n",
       "</div>"
      ],
      "text/plain": [
       "   headquarter     amount($)  growth_billions  rank   Latitude   Longitude\n",
       "74      Mumbai  2.311084e+11       231.108427     1  19.078545   72.878176\n",
       "9    Bangalore  2.515363e+10        25.153630     2  12.976794   77.590082\n",
       "42    Gurugram  5.487438e+09         5.487438     3  28.464615   77.029919\n",
       "77   New Delhi  3.600349e+09         3.600349     4  28.613895   77.209006\n",
       "21  California  3.081300e+09         3.081300     5  36.701463 -118.755997\n",
       "41     Gurgaon  1.462202e+09         1.462202     6  28.428262   77.002700\n",
       "90        Pune  1.354979e+09         1.354979     7  18.521428   73.854454\n",
       "23     Chennai  1.181153e+09         1.181153     8  13.083694   80.270186\n",
       "28       Delhi  9.798537e+08         0.979854     9  28.627393   77.171695\n",
       "44     Haryana  9.379950e+08         0.937995    10  29.000000   76.000000"
      ]
     },
     "execution_count": 334,
     "metadata": {},
     "output_type": "execute_result"
    }
   ],
   "source": [
    "# Apply the function to get coordinates for each location\n",
    "top_10_locations_by_investment[['Latitude', 'Longitude']] = top_10_locations_by_investment['headquarter'].apply(lambda x: pd.Series(get_coordinates(x)))\n",
    "top_10_locations_by_investment"
   ]
  },
  {
   "cell_type": "markdown",
   "metadata": {},
   "source": [
    "#### Visualizing"
   ]
  },
  {
   "cell_type": "code",
   "execution_count": 335,
   "metadata": {},
   "outputs": [
    {
     "data": {
      "text/html": [
       "<div style=\"width:100%;\"><div style=\"position:relative;width:100%;height:0;padding-bottom:60%;\"><span style=\"color:#565656\">Make this Notebook Trusted to load map: File -> Trust Notebook</span><iframe srcdoc=\"&lt;!DOCTYPE html&gt;\n",
       "&lt;html&gt;\n",
       "&lt;head&gt;\n",
       "    \n",
       "    &lt;meta http-equiv=&quot;content-type&quot; content=&quot;text/html; charset=UTF-8&quot; /&gt;\n",
       "    \n",
       "        &lt;script&gt;\n",
       "            L_NO_TOUCH = false;\n",
       "            L_DISABLE_3D = false;\n",
       "        &lt;/script&gt;\n",
       "    \n",
       "    &lt;style&gt;html, body {width: 100%;height: 100%;margin: 0;padding: 0;}&lt;/style&gt;\n",
       "    &lt;style&gt;#map {position:absolute;top:0;bottom:0;right:0;left:0;}&lt;/style&gt;\n",
       "    &lt;script src=&quot;https://cdn.jsdelivr.net/npm/leaflet@1.9.3/dist/leaflet.js&quot;&gt;&lt;/script&gt;\n",
       "    &lt;script src=&quot;https://code.jquery.com/jquery-3.7.1.min.js&quot;&gt;&lt;/script&gt;\n",
       "    &lt;script src=&quot;https://cdn.jsdelivr.net/npm/bootstrap@5.2.2/dist/js/bootstrap.bundle.min.js&quot;&gt;&lt;/script&gt;\n",
       "    &lt;script src=&quot;https://cdnjs.cloudflare.com/ajax/libs/Leaflet.awesome-markers/2.0.2/leaflet.awesome-markers.js&quot;&gt;&lt;/script&gt;\n",
       "    &lt;link rel=&quot;stylesheet&quot; href=&quot;https://cdn.jsdelivr.net/npm/leaflet@1.9.3/dist/leaflet.css&quot;/&gt;\n",
       "    &lt;link rel=&quot;stylesheet&quot; href=&quot;https://cdn.jsdelivr.net/npm/bootstrap@5.2.2/dist/css/bootstrap.min.css&quot;/&gt;\n",
       "    &lt;link rel=&quot;stylesheet&quot; href=&quot;https://netdna.bootstrapcdn.com/bootstrap/3.0.0/css/bootstrap.min.css&quot;/&gt;\n",
       "    &lt;link rel=&quot;stylesheet&quot; href=&quot;https://cdn.jsdelivr.net/npm/@fortawesome/fontawesome-free@6.2.0/css/all.min.css&quot;/&gt;\n",
       "    &lt;link rel=&quot;stylesheet&quot; href=&quot;https://cdnjs.cloudflare.com/ajax/libs/Leaflet.awesome-markers/2.0.2/leaflet.awesome-markers.css&quot;/&gt;\n",
       "    &lt;link rel=&quot;stylesheet&quot; href=&quot;https://cdn.jsdelivr.net/gh/python-visualization/folium/folium/templates/leaflet.awesome.rotate.min.css&quot;/&gt;\n",
       "    \n",
       "            &lt;meta name=&quot;viewport&quot; content=&quot;width=device-width,\n",
       "                initial-scale=1.0, maximum-scale=1.0, user-scalable=no&quot; /&gt;\n",
       "            &lt;style&gt;\n",
       "                #map_26291fab8b709ccb262434a87785d181 {\n",
       "                    position: relative;\n",
       "                    width: 100.0%;\n",
       "                    height: 100.0%;\n",
       "                    left: 0.0%;\n",
       "                    top: 0.0%;\n",
       "                }\n",
       "                .leaflet-container { font-size: 1rem; }\n",
       "            &lt;/style&gt;\n",
       "        \n",
       "    &lt;script src=&quot;https://cdnjs.cloudflare.com/ajax/libs/leaflet.markercluster/1.1.0/leaflet.markercluster.js&quot;&gt;&lt;/script&gt;\n",
       "    &lt;link rel=&quot;stylesheet&quot; href=&quot;https://cdnjs.cloudflare.com/ajax/libs/leaflet.markercluster/1.1.0/MarkerCluster.css&quot;/&gt;\n",
       "    &lt;link rel=&quot;stylesheet&quot; href=&quot;https://cdnjs.cloudflare.com/ajax/libs/leaflet.markercluster/1.1.0/MarkerCluster.Default.css&quot;/&gt;\n",
       "&lt;/head&gt;\n",
       "&lt;body&gt;\n",
       "    \n",
       "    \n",
       "            &lt;div class=&quot;folium-map&quot; id=&quot;map_26291fab8b709ccb262434a87785d181&quot; &gt;&lt;/div&gt;\n",
       "        \n",
       "&lt;/body&gt;\n",
       "&lt;script&gt;\n",
       "    \n",
       "    \n",
       "            var map_26291fab8b709ccb262434a87785d181 = L.map(\n",
       "                &quot;map_26291fab8b709ccb262434a87785d181&quot;,\n",
       "                {\n",
       "                    center: [19.0785451, 72.878176],\n",
       "                    crs: L.CRS.EPSG3857,\n",
       "                    zoom: 3,\n",
       "                    zoomControl: true,\n",
       "                    preferCanvas: false,\n",
       "                }\n",
       "            );\n",
       "\n",
       "            \n",
       "\n",
       "        \n",
       "    \n",
       "            var tile_layer_486357bcdff487f2a7b3e6f9e8d00469 = L.tileLayer(\n",
       "                &quot;https://tile.openstreetmap.org/{z}/{x}/{y}.png&quot;,\n",
       "                {&quot;attribution&quot;: &quot;\\u0026copy; \\u003ca href=\\&quot;https://www.openstreetmap.org/copyright\\&quot;\\u003eOpenStreetMap\\u003c/a\\u003e contributors&quot;, &quot;detectRetina&quot;: false, &quot;maxNativeZoom&quot;: 19, &quot;maxZoom&quot;: 19, &quot;minZoom&quot;: 0, &quot;noWrap&quot;: false, &quot;opacity&quot;: 1, &quot;subdomains&quot;: &quot;abc&quot;, &quot;tms&quot;: false}\n",
       "            );\n",
       "        \n",
       "    \n",
       "            tile_layer_486357bcdff487f2a7b3e6f9e8d00469.addTo(map_26291fab8b709ccb262434a87785d181);\n",
       "        \n",
       "    \n",
       "            var marker_cluster_c703221736330c8e027ad33110e5483f = L.markerClusterGroup(\n",
       "                {}\n",
       "            );\n",
       "        \n",
       "    \n",
       "            var marker_437ed9f392e3264a013d6f3c5c2c3e61 = L.marker(\n",
       "                [19.0785451, 72.878176],\n",
       "                {}\n",
       "            ).addTo(marker_cluster_c703221736330c8e027ad33110e5483f);\n",
       "        \n",
       "    \n",
       "            var div_icon_c0f768d4a72d9a5240ab1c750892dfee = L.divIcon({&quot;className&quot;: &quot;empty&quot;, &quot;html&quot;: &quot;\\u003cdiv style=\\u0027font-size: 12pt; color: red;\\u0027\\u003e1\\u003c/div\\u003e&quot;});\n",
       "            marker_437ed9f392e3264a013d6f3c5c2c3e61.setIcon(div_icon_c0f768d4a72d9a5240ab1c750892dfee);\n",
       "        \n",
       "    \n",
       "        var popup_f56a75336ec869dbd7fa719445860c3c = L.popup({&quot;maxWidth&quot;: 250});\n",
       "\n",
       "        \n",
       "            \n",
       "                var html_c0936ee2287bed194543767a92d084ce = $(`&lt;div id=&quot;html_c0936ee2287bed194543767a92d084ce&quot; style=&quot;width: 100.0%; height: 100.0%;&quot;&gt;&lt;strong&gt;&lt;font color =&quot;green&quot;&gt;Mumbai&lt;/font&gt;&lt;/strong&gt;&lt;br&gt;&lt;strong&gt;Total Investment (Billions): &lt;/strong&gt;&lt;font color =&quot;blue&quot;&gt;231.1084271055&lt;/font&gt;&lt;br&gt;&lt;/div&gt;`)[0];\n",
       "                popup_f56a75336ec869dbd7fa719445860c3c.setContent(html_c0936ee2287bed194543767a92d084ce);\n",
       "            \n",
       "        \n",
       "\n",
       "        marker_437ed9f392e3264a013d6f3c5c2c3e61.bindPopup(popup_f56a75336ec869dbd7fa719445860c3c)\n",
       "        ;\n",
       "\n",
       "        \n",
       "    \n",
       "    \n",
       "            var marker_fcf69fe76c3433335fa33abf9519ba7a = L.marker(\n",
       "                [12.9767936, 77.590082],\n",
       "                {}\n",
       "            ).addTo(marker_cluster_c703221736330c8e027ad33110e5483f);\n",
       "        \n",
       "    \n",
       "            var div_icon_9ba4da900b42d1fd5a1cd67198aac198 = L.divIcon({&quot;className&quot;: &quot;empty&quot;, &quot;html&quot;: &quot;\\u003cdiv style=\\u0027font-size: 12pt; color: red;\\u0027\\u003e2\\u003c/div\\u003e&quot;});\n",
       "            marker_fcf69fe76c3433335fa33abf9519ba7a.setIcon(div_icon_9ba4da900b42d1fd5a1cd67198aac198);\n",
       "        \n",
       "    \n",
       "        var popup_12e041558d6d17830968b431b102175b = L.popup({&quot;maxWidth&quot;: 250});\n",
       "\n",
       "        \n",
       "            \n",
       "                var html_305f415d5ac40c2dd6fae2bdea1a0f2f = $(`&lt;div id=&quot;html_305f415d5ac40c2dd6fae2bdea1a0f2f&quot; style=&quot;width: 100.0%; height: 100.0%;&quot;&gt;&lt;strong&gt;&lt;font color =&quot;green&quot;&gt;Bangalore&lt;/font&gt;&lt;/strong&gt;&lt;br&gt;&lt;strong&gt;Total Investment (Billions): &lt;/strong&gt;&lt;font color =&quot;blue&quot;&gt;25.15363007299&lt;/font&gt;&lt;br&gt;&lt;/div&gt;`)[0];\n",
       "                popup_12e041558d6d17830968b431b102175b.setContent(html_305f415d5ac40c2dd6fae2bdea1a0f2f);\n",
       "            \n",
       "        \n",
       "\n",
       "        marker_fcf69fe76c3433335fa33abf9519ba7a.bindPopup(popup_12e041558d6d17830968b431b102175b)\n",
       "        ;\n",
       "\n",
       "        \n",
       "    \n",
       "    \n",
       "            var marker_6294f482a53146903e0e3616e8888b25 = L.marker(\n",
       "                [28.4646148, 77.0299194],\n",
       "                {}\n",
       "            ).addTo(marker_cluster_c703221736330c8e027ad33110e5483f);\n",
       "        \n",
       "    \n",
       "            var div_icon_9026c77ea0f91f38ed47afef419f5a2e = L.divIcon({&quot;className&quot;: &quot;empty&quot;, &quot;html&quot;: &quot;\\u003cdiv style=\\u0027font-size: 12pt; color: red;\\u0027\\u003e3\\u003c/div\\u003e&quot;});\n",
       "            marker_6294f482a53146903e0e3616e8888b25.setIcon(div_icon_9026c77ea0f91f38ed47afef419f5a2e);\n",
       "        \n",
       "    \n",
       "        var popup_dc9cc1a467039131d15c4e80024bbfd1 = L.popup({&quot;maxWidth&quot;: 250});\n",
       "\n",
       "        \n",
       "            \n",
       "                var html_02493f8182b19c17f68e31d04b109983 = $(`&lt;div id=&quot;html_02493f8182b19c17f68e31d04b109983&quot; style=&quot;width: 100.0%; height: 100.0%;&quot;&gt;&lt;strong&gt;&lt;font color =&quot;green&quot;&gt;Gurugram&lt;/font&gt;&lt;/strong&gt;&lt;br&gt;&lt;strong&gt;Total Investment (Billions): &lt;/strong&gt;&lt;font color =&quot;blue&quot;&gt;5.4874382&lt;/font&gt;&lt;br&gt;&lt;/div&gt;`)[0];\n",
       "                popup_dc9cc1a467039131d15c4e80024bbfd1.setContent(html_02493f8182b19c17f68e31d04b109983);\n",
       "            \n",
       "        \n",
       "\n",
       "        marker_6294f482a53146903e0e3616e8888b25.bindPopup(popup_dc9cc1a467039131d15c4e80024bbfd1)\n",
       "        ;\n",
       "\n",
       "        \n",
       "    \n",
       "    \n",
       "            var marker_092ec9a044b3e624636072933373f15a = L.marker(\n",
       "                [28.6138954, 77.2090057],\n",
       "                {}\n",
       "            ).addTo(marker_cluster_c703221736330c8e027ad33110e5483f);\n",
       "        \n",
       "    \n",
       "            var div_icon_aa682828042d99f86318e9262e84157d = L.divIcon({&quot;className&quot;: &quot;empty&quot;, &quot;html&quot;: &quot;\\u003cdiv style=\\u0027font-size: 12pt; color: red;\\u0027\\u003e4\\u003c/div\\u003e&quot;});\n",
       "            marker_092ec9a044b3e624636072933373f15a.setIcon(div_icon_aa682828042d99f86318e9262e84157d);\n",
       "        \n",
       "    \n",
       "        var popup_85e9142e3fc33512817c539e82f1f4ee = L.popup({&quot;maxWidth&quot;: 250});\n",
       "\n",
       "        \n",
       "            \n",
       "                var html_f290f6b1df1b216aba0631bae86d8517 = $(`&lt;div id=&quot;html_f290f6b1df1b216aba0631bae86d8517&quot; style=&quot;width: 100.0%; height: 100.0%;&quot;&gt;&lt;strong&gt;&lt;font color =&quot;green&quot;&gt;New Delhi&lt;/font&gt;&lt;/strong&gt;&lt;br&gt;&lt;strong&gt;Total Investment (Billions): &lt;/strong&gt;&lt;font color =&quot;blue&quot;&gt;3.6003494426&lt;/font&gt;&lt;br&gt;&lt;/div&gt;`)[0];\n",
       "                popup_85e9142e3fc33512817c539e82f1f4ee.setContent(html_f290f6b1df1b216aba0631bae86d8517);\n",
       "            \n",
       "        \n",
       "\n",
       "        marker_092ec9a044b3e624636072933373f15a.bindPopup(popup_85e9142e3fc33512817c539e82f1f4ee)\n",
       "        ;\n",
       "\n",
       "        \n",
       "    \n",
       "    \n",
       "            var marker_cbe5f36090697a2e8ef1a82f129b3b93 = L.marker(\n",
       "                [36.7014631, -118.755997],\n",
       "                {}\n",
       "            ).addTo(marker_cluster_c703221736330c8e027ad33110e5483f);\n",
       "        \n",
       "    \n",
       "            var div_icon_4c4d59887dde726bb2b3d3caac6550fa = L.divIcon({&quot;className&quot;: &quot;empty&quot;, &quot;html&quot;: &quot;\\u003cdiv style=\\u0027font-size: 12pt; color: red;\\u0027\\u003e5\\u003c/div\\u003e&quot;});\n",
       "            marker_cbe5f36090697a2e8ef1a82f129b3b93.setIcon(div_icon_4c4d59887dde726bb2b3d3caac6550fa);\n",
       "        \n",
       "    \n",
       "        var popup_fa374751e4eff87ecfd4cf66f6081ecf = L.popup({&quot;maxWidth&quot;: 250});\n",
       "\n",
       "        \n",
       "            \n",
       "                var html_25ded32c86a3f401ee3b4b56e5faf286 = $(`&lt;div id=&quot;html_25ded32c86a3f401ee3b4b56e5faf286&quot; style=&quot;width: 100.0%; height: 100.0%;&quot;&gt;&lt;strong&gt;&lt;font color =&quot;green&quot;&gt;California&lt;/font&gt;&lt;/strong&gt;&lt;br&gt;&lt;strong&gt;Total Investment (Billions): &lt;/strong&gt;&lt;font color =&quot;blue&quot;&gt;3.0813&lt;/font&gt;&lt;br&gt;&lt;/div&gt;`)[0];\n",
       "                popup_fa374751e4eff87ecfd4cf66f6081ecf.setContent(html_25ded32c86a3f401ee3b4b56e5faf286);\n",
       "            \n",
       "        \n",
       "\n",
       "        marker_cbe5f36090697a2e8ef1a82f129b3b93.bindPopup(popup_fa374751e4eff87ecfd4cf66f6081ecf)\n",
       "        ;\n",
       "\n",
       "        \n",
       "    \n",
       "    \n",
       "            var marker_c65b79750339eaf0ab3e7142899dc1ef = L.marker(\n",
       "                [28.42826235, 77.00270014657752],\n",
       "                {}\n",
       "            ).addTo(marker_cluster_c703221736330c8e027ad33110e5483f);\n",
       "        \n",
       "    \n",
       "            var div_icon_7c91baadb367fe30b05e5b8df6b084aa = L.divIcon({&quot;className&quot;: &quot;empty&quot;, &quot;html&quot;: &quot;\\u003cdiv style=\\u0027font-size: 12pt; color: red;\\u0027\\u003e6\\u003c/div\\u003e&quot;});\n",
       "            marker_c65b79750339eaf0ab3e7142899dc1ef.setIcon(div_icon_7c91baadb367fe30b05e5b8df6b084aa);\n",
       "        \n",
       "    \n",
       "        var popup_d6b52800244af1f598aa70e6bf4ebd81 = L.popup({&quot;maxWidth&quot;: 250});\n",
       "\n",
       "        \n",
       "            \n",
       "                var html_6a485977db4629539b41b9be2a827d3f = $(`&lt;div id=&quot;html_6a485977db4629539b41b9be2a827d3f&quot; style=&quot;width: 100.0%; height: 100.0%;&quot;&gt;&lt;strong&gt;&lt;font color =&quot;green&quot;&gt;Gurgaon&lt;/font&gt;&lt;/strong&gt;&lt;br&gt;&lt;strong&gt;Total Investment (Billions): &lt;/strong&gt;&lt;font color =&quot;blue&quot;&gt;1.4622021167&lt;/font&gt;&lt;br&gt;&lt;/div&gt;`)[0];\n",
       "                popup_d6b52800244af1f598aa70e6bf4ebd81.setContent(html_6a485977db4629539b41b9be2a827d3f);\n",
       "            \n",
       "        \n",
       "\n",
       "        marker_c65b79750339eaf0ab3e7142899dc1ef.bindPopup(popup_d6b52800244af1f598aa70e6bf4ebd81)\n",
       "        ;\n",
       "\n",
       "        \n",
       "    \n",
       "    \n",
       "            var marker_ef3c21c894599edda0858215879ccbf5 = L.marker(\n",
       "                [18.521428, 73.8544541],\n",
       "                {}\n",
       "            ).addTo(marker_cluster_c703221736330c8e027ad33110e5483f);\n",
       "        \n",
       "    \n",
       "            var div_icon_4a328ef0d4643f5e009a2570dff97fb3 = L.divIcon({&quot;className&quot;: &quot;empty&quot;, &quot;html&quot;: &quot;\\u003cdiv style=\\u0027font-size: 12pt; color: red;\\u0027\\u003e7\\u003c/div\\u003e&quot;});\n",
       "            marker_ef3c21c894599edda0858215879ccbf5.setIcon(div_icon_4a328ef0d4643f5e009a2570dff97fb3);\n",
       "        \n",
       "    \n",
       "        var popup_2f740c0321c0b37862bfee897f39476a = L.popup({&quot;maxWidth&quot;: 250});\n",
       "\n",
       "        \n",
       "            \n",
       "                var html_df7c0c975f9d3596eb536c3740ed3fdc = $(`&lt;div id=&quot;html_df7c0c975f9d3596eb536c3740ed3fdc&quot; style=&quot;width: 100.0%; height: 100.0%;&quot;&gt;&lt;strong&gt;&lt;font color =&quot;green&quot;&gt;Pune&lt;/font&gt;&lt;/strong&gt;&lt;br&gt;&lt;strong&gt;Total Investment (Billions): &lt;/strong&gt;&lt;font color =&quot;blue&quot;&gt;1.3549788164&lt;/font&gt;&lt;br&gt;&lt;/div&gt;`)[0];\n",
       "                popup_2f740c0321c0b37862bfee897f39476a.setContent(html_df7c0c975f9d3596eb536c3740ed3fdc);\n",
       "            \n",
       "        \n",
       "\n",
       "        marker_ef3c21c894599edda0858215879ccbf5.bindPopup(popup_2f740c0321c0b37862bfee897f39476a)\n",
       "        ;\n",
       "\n",
       "        \n",
       "    \n",
       "    \n",
       "            var marker_c6ca9198a6246ce316d5cc7f98458b12 = L.marker(\n",
       "                [13.0836939, 80.270186],\n",
       "                {}\n",
       "            ).addTo(marker_cluster_c703221736330c8e027ad33110e5483f);\n",
       "        \n",
       "    \n",
       "            var div_icon_21353b933514a7cb18c96e1df803b95d = L.divIcon({&quot;className&quot;: &quot;empty&quot;, &quot;html&quot;: &quot;\\u003cdiv style=\\u0027font-size: 12pt; color: red;\\u0027\\u003e8\\u003c/div\\u003e&quot;});\n",
       "            marker_c6ca9198a6246ce316d5cc7f98458b12.setIcon(div_icon_21353b933514a7cb18c96e1df803b95d);\n",
       "        \n",
       "    \n",
       "        var popup_2b30cecc4b6d3fa1c329b1c42cb1cc72 = L.popup({&quot;maxWidth&quot;: 250});\n",
       "\n",
       "        \n",
       "            \n",
       "                var html_11349c4a042fa67c79af2fd6bcc431a9 = $(`&lt;div id=&quot;html_11349c4a042fa67c79af2fd6bcc431a9&quot; style=&quot;width: 100.0%; height: 100.0%;&quot;&gt;&lt;strong&gt;&lt;font color =&quot;green&quot;&gt;Chennai&lt;/font&gt;&lt;/strong&gt;&lt;br&gt;&lt;strong&gt;Total Investment (Billions): &lt;/strong&gt;&lt;font color =&quot;blue&quot;&gt;1.1811527052000002&lt;/font&gt;&lt;br&gt;&lt;/div&gt;`)[0];\n",
       "                popup_2b30cecc4b6d3fa1c329b1c42cb1cc72.setContent(html_11349c4a042fa67c79af2fd6bcc431a9);\n",
       "            \n",
       "        \n",
       "\n",
       "        marker_c6ca9198a6246ce316d5cc7f98458b12.bindPopup(popup_2b30cecc4b6d3fa1c329b1c42cb1cc72)\n",
       "        ;\n",
       "\n",
       "        \n",
       "    \n",
       "    \n",
       "            var marker_e97f43a28a5f51f0c8a11b4106dc0b2a = L.marker(\n",
       "                [28.6273928, 77.1716954],\n",
       "                {}\n",
       "            ).addTo(marker_cluster_c703221736330c8e027ad33110e5483f);\n",
       "        \n",
       "    \n",
       "            var div_icon_5d15ef45f5e10d52b5ce7db1318386c0 = L.divIcon({&quot;className&quot;: &quot;empty&quot;, &quot;html&quot;: &quot;\\u003cdiv style=\\u0027font-size: 12pt; color: red;\\u0027\\u003e9\\u003c/div\\u003e&quot;});\n",
       "            marker_e97f43a28a5f51f0c8a11b4106dc0b2a.setIcon(div_icon_5d15ef45f5e10d52b5ce7db1318386c0);\n",
       "        \n",
       "    \n",
       "        var popup_721964f15c17774227307d2602573f1e = L.popup({&quot;maxWidth&quot;: 250});\n",
       "\n",
       "        \n",
       "            \n",
       "                var html_c3a67c842e514eb951fe4e10e0ee03e9 = $(`&lt;div id=&quot;html_c3a67c842e514eb951fe4e10e0ee03e9&quot; style=&quot;width: 100.0%; height: 100.0%;&quot;&gt;&lt;strong&gt;&lt;font color =&quot;green&quot;&gt;Delhi&lt;/font&gt;&lt;/strong&gt;&lt;br&gt;&lt;strong&gt;Total Investment (Billions): &lt;/strong&gt;&lt;font color =&quot;blue&quot;&gt;0.979853706&lt;/font&gt;&lt;br&gt;&lt;/div&gt;`)[0];\n",
       "                popup_721964f15c17774227307d2602573f1e.setContent(html_c3a67c842e514eb951fe4e10e0ee03e9);\n",
       "            \n",
       "        \n",
       "\n",
       "        marker_e97f43a28a5f51f0c8a11b4106dc0b2a.bindPopup(popup_721964f15c17774227307d2602573f1e)\n",
       "        ;\n",
       "\n",
       "        \n",
       "    \n",
       "    \n",
       "            var marker_3f5714ef13f6802f191a9fb522cc76ca = L.marker(\n",
       "                [29.0, 76.0],\n",
       "                {}\n",
       "            ).addTo(marker_cluster_c703221736330c8e027ad33110e5483f);\n",
       "        \n",
       "    \n",
       "            var div_icon_3796740d09b3ff6f1f407bc60f29c620 = L.divIcon({&quot;className&quot;: &quot;empty&quot;, &quot;html&quot;: &quot;\\u003cdiv style=\\u0027font-size: 12pt; color: red;\\u0027\\u003e10\\u003c/div\\u003e&quot;});\n",
       "            marker_3f5714ef13f6802f191a9fb522cc76ca.setIcon(div_icon_3796740d09b3ff6f1f407bc60f29c620);\n",
       "        \n",
       "    \n",
       "        var popup_877077764738318e22f2300e8bacd84c = L.popup({&quot;maxWidth&quot;: 250});\n",
       "\n",
       "        \n",
       "            \n",
       "                var html_36ce8ed7c37515ff2eb7351eb8bce32f = $(`&lt;div id=&quot;html_36ce8ed7c37515ff2eb7351eb8bce32f&quot; style=&quot;width: 100.0%; height: 100.0%;&quot;&gt;&lt;strong&gt;&lt;font color =&quot;green&quot;&gt;Haryana&lt;/font&gt;&lt;/strong&gt;&lt;br&gt;&lt;strong&gt;Total Investment (Billions): &lt;/strong&gt;&lt;font color =&quot;blue&quot;&gt;0.937994988&lt;/font&gt;&lt;br&gt;&lt;/div&gt;`)[0];\n",
       "                popup_877077764738318e22f2300e8bacd84c.setContent(html_36ce8ed7c37515ff2eb7351eb8bce32f);\n",
       "            \n",
       "        \n",
       "\n",
       "        marker_3f5714ef13f6802f191a9fb522cc76ca.bindPopup(popup_877077764738318e22f2300e8bacd84c)\n",
       "        ;\n",
       "\n",
       "        \n",
       "    \n",
       "    \n",
       "            marker_cluster_c703221736330c8e027ad33110e5483f.addTo(map_26291fab8b709ccb262434a87785d181);\n",
       "        \n",
       "&lt;/script&gt;\n",
       "&lt;/html&gt;\" style=\"position:absolute;width:100%;height:100%;left:0;top:0;border:none !important;\" allowfullscreen webkitallowfullscreen mozallowfullscreen></iframe></div></div>"
      ],
      "text/plain": [
       "<folium.folium.Map at 0x1c01ce7e2c0>"
      ]
     },
     "execution_count": 335,
     "metadata": {},
     "output_type": "execute_result"
    }
   ],
   "source": [
    "# Create a map centered around the first location\n",
    "map_top_10_locations_by_investment= folium.Map(location=[top_10_locations_by_investment['Latitude'].iloc[0], top_10_locations_by_investment['Longitude'].iloc[0]], zoom_start=3)\n",
    "marker_cluster = MarkerCluster().add_to(map_top_10_locations_by_investment)\n",
    "\n",
    "# Add a marker for each location to the MarkerCluster\n",
    "for idx, row in top_10_locations_by_investment.iterrows():\n",
    "    radius = int(row['growth_billions'] / 1e9)\n",
    "    folium.Marker(\n",
    "        location=[row['Latitude'], row['Longitude']],\n",
    "        popup=folium.Popup(('<strong><font color =\"green\">'+row['headquarter']+'</font></strong><br>'+\n",
    "                            '<strong>Total Investment (Billions): </strong><font color =\"blue\">'+str(row['growth_billions'])+'</font><br>'), max_width=250),\n",
    "        icon=folium.DivIcon(html=f\"<div style='font-size: 12pt; color: red;'>{row['rank']}</div>\")\n",
    "    ).add_to(marker_cluster)\n",
    "\n",
    "# Display the map\n",
    "map_top_10_locations_by_investment"
   ]
  },
  {
   "cell_type": "markdown",
   "metadata": {},
   "source": [
    "##### Secondly answering Locations with higest number of start ups"
   ]
  },
  {
   "cell_type": "code",
   "execution_count": 336,
   "metadata": {},
   "outputs": [
    {
     "data": {
      "image/png": "[encoded data removed]",
      "text/plain": [
       "<Figure size 1000x600 with 1 Axes>"
      ]
     },
     "metadata": {},
     "output_type": "display_data"
    }
   ],
   "source": [
    "startups_by_location2 = final_dataset['headquarter'].value_counts()\n",
    "\n",
    "# Reset index and get the top 10 locations\n",
    "top_10_locations2 = startups_by_location2.head(10).sort_values(ascending=False).reset_index()\n",
    "top_10_locations2.columns = ['headquarter', 'count']\n",
    "\n",
    "\n",
    "# Plotting using seaborn\n",
    "plt.figure(figsize=(10, 6))\n",
    "ax = sns.barplot(x='count', y='headquarter', data=top_10_locations2, palette=\"mako\")\n",
    "\n",
    "# Add the numbers near the bars\n",
    "for i, v in enumerate(top_10_locations2['count']):\n",
    "    ax.text(v + 3, i + .25, str(v), color='black', fontweight='light')\n",
    "\n",
    "plt.title('Top 10 locations with the Highest Startups')\n",
    "plt.xlabel('Number of Startups')\n",
    "plt.ylabel('Top 10 locations')\n",
    "plt.show()"
   ]
  },
  {
   "cell_type": "markdown",
   "metadata": {},
   "source": [
    "#### Summary on the visualizations"
   ]
  },
  {
   "cell_type": "markdown",
   "metadata": {},
   "source": [
    "######\n",
    "- Bangalore is the leading hub with 866 startups. Bangalore, often referred to as the “Silicon Valley of India”, is known for its tech-savvy talent pool, vibrant ecosystem, and presence of numerous tech giants and venture capitalists.\n",
    "\n",
    "- Mumbai, with 466 startups, is the second major hub. As the financial capital of India, Mumbai offers a robust financial infrastructure and access to a diverse market.\n",
    "\n",
    "- Gurugram ranks third with 238 startups. Its proximity to the national capital, New Delhi, and favorable government policies make it an attractive destination for startups.\n",
    "\n",
    "- New Delhi itself is home to 229 startups, benefiting from its status as the capital city and its vast network of investors and companies.\n",
    "\n",
    "The factors contributing to the prominence of these locations could include availability of skilled workforce, infrastructure, ease of doing business, presence of investors, and supportive government policies. "
   ]
  },
  {
   "cell_type": "markdown",
   "metadata": {},
   "source": [
    "######\n",
    "It’s interesting to note that while Bangalore leads in the number of startups, it’s Mumbai that attracts the highest average funding. This could be due to a variety of factors such as the nature of startups in each city, the presence of investors, market opportunities, etc.\n",
    "\n",
    "In conclusion, both Bangalore and Mumbai have emerged as significant hubs for startup activity and investment in India, each with its own strengths - Bangalore with its sheer number of startups, and Mumbai with its higher average funding."
   ]
  },
  {
   "cell_type": "markdown",
   "metadata": {},
   "source": [
    "##### Q3. Are there any notable differences in funding patterns between early-stage startups and more established companies?"
   ]
  },
  {
   "cell_type": "code",
   "execution_count": 337,
   "metadata": {},
   "outputs": [],
   "source": [
    "#Getting the median year for the founded coulmn\n",
    "overall_median_per_year  # The overall median year is 2016\n",
    "\n",
    "final_dataset['stage_of_startup'] = np.where(final_dataset['founded'] >= overall_median_per_year, 'Early Stage', 'Established')"
   ]
  },
  {
   "cell_type": "code",
   "execution_count": 338,
   "metadata": {},
   "outputs": [
    {
     "name": "stdout",
     "output_type": "stream",
     "text": [
      "stage_of_startup\n",
      "Early Stage    2074\n",
      "Established     782\n",
      "Name: count, dtype: int64\n"
     ]
    }
   ],
   "source": [
    "# Display the count of each category in the 'stage' column\n",
    "stage_distribution = final_dataset['stage_of_startup'].value_counts()\n",
    "\n",
    "# Print or visualize the distribution\n",
    "print(stage_distribution)"
   ]
  },
  {
   "cell_type": "markdown",
   "metadata": {},
   "source": [
    "#### Descriptive Stats on the two categories i.e Eary Stage and Established"
   ]
  },
  {
   "cell_type": "code",
   "execution_count": 339,
   "metadata": {},
   "outputs": [
    {
     "name": "stdout",
     "output_type": "stream",
     "text": [
      "Early Stage Funding Statistics:\n",
      "count    2.074000e+03\n",
      "mean     8.398805e+07\n",
      "std      3.293778e+09\n",
      "min      8.789400e+02\n",
      "25%      1.000000e+06\n",
      "50%      3.000000e+06\n",
      "75%      5.000000e+06\n",
      "max      1.500000e+11\n",
      "Name: amount($), dtype: float64\n",
      "\n",
      "Established Funding Statistics:\n",
      "count    2.074000e+03\n",
      "mean     8.398805e+07\n",
      "std      3.293778e+09\n",
      "min      8.789400e+02\n",
      "25%      1.000000e+06\n",
      "50%      3.000000e+06\n",
      "75%      5.000000e+06\n",
      "max      1.500000e+11\n",
      "Name: amount($), dtype: float64\n"
     ]
    }
   ],
   "source": [
    "early_stage_startups = final_dataset[final_dataset['stage_of_startup'] == 'Early Stage']['amount($)'].describe()\n",
    "established_startups = final_dataset[final_dataset['stage_of_startup'] == 'Established']['amount($)'].describe()\n",
    "\n",
    "print(\"Early Stage Funding Statistics:\")\n",
    "print(early_stage_startups)\n",
    "\n",
    "print(\"\\nEstablished Funding Statistics:\")\n",
    "print(early_stage_startups)"
   ]
  },
  {
   "cell_type": "markdown",
   "metadata": {},
   "source": [
    "####\n",
    "**Mean Funding Amount:** Early-stage companies have a slightly lower mean funding amount ($83.88 million) compared to established companies ($136.97 million).\n",
    "\n",
    "**Variability (Standard Deviation):** Both groups exhibit high variability in funding amounts, as indicated by the large standard deviations.\n",
    "\n",
    "**Minimum and Maximum Funding:** Both groups have a wide range of funding amounts, with early-stage companies having a minimum of $720 and a maximum of $150 billion, while established companies range from $40,900 to $70 billion.\n",
    "\n",
    "**Percentiles (Q1, Median, Q3):** Early-stage companies generally have lower funding amounts at each percentile compared to established companies."
   ]
  },
  {
   "cell_type": "markdown",
   "metadata": {},
   "source": [
    "#### Visualizing"
   ]
  },
  {
   "cell_type": "code",
   "execution_count": 340,
   "metadata": {},
   "outputs": [
    {
     "data": {
      "image/png": "[encoded data removed]",
      "text/plain": [
       "<Figure size 800x600 with 1 Axes>"
      ]
     },
     "metadata": {},
     "output_type": "display_data"
    }
   ],
   "source": [
    "# Calculate the count of companies by stage\n",
    "stage_counts = final_dataset['stage_of_startup'].value_counts()\n",
    "\n",
    "# Set up the data for the donut chart\n",
    "labels = stage_counts.index\n",
    "sizes = stage_counts.values\n",
    "\n",
    "# Set up colors\n",
    "colors = sns.color_palette('mako', len(labels))\n",
    "\n",
    "# Create a donut chart\n",
    "fig, ax = plt.subplots(figsize=(8, 6))\n",
    "wedges, texts, autotexts = ax.pie(sizes, labels=labels, colors=colors, autopct='%1.1f%%', startangle=90, wedgeprops=dict(width=0.3))\n",
    "\n",
    "# Draw a circle at the center of the donut to make it a donut chart\n",
    "centre_circle = plt.Circle((0,0),0.70,fc='white')\n",
    "fig.gca().add_artist(centre_circle)\n",
    "\n",
    "# Add count and percentage labels\n",
    "for i, (text, autotext) in enumerate(zip(texts, autotexts)):\n",
    "    autotext.set_color('white') \n",
    "    autotext.set_fontweight('bold') \n",
    "    text.set_text(f'{labels[i]}: {sizes[i]}')\n",
    "# Equal aspect ratio ensures that pie is drawn as a circle\n",
    "ax.axis('equal')\n",
    "\n",
    "# Add title\n",
    "plt.title('Distribution of Companies by Stage')\n",
    "\n",
    "# Show the plot\n",
    "plt.show()"
   ]
  },
  {
   "cell_type": "code",
   "execution_count": 341,
   "metadata": {},
   "outputs": [
    {
     "data": {
      "image/png": "[encoded data removed]",
      "text/plain": [
       "<Figure size 800x600 with 1 Axes>"
      ]
     },
     "metadata": {},
     "output_type": "display_data"
    }
   ],
   "source": [
    "# Calculate the total funding amounts for each stage\n",
    "stage_funding = final_dataset.groupby('stage_of_startup')['amount($)'].sum()\n",
    "\n",
    "# Set up the data for the pie chart\n",
    "labels = stage_funding.index\n",
    "sizes = stage_funding.values\n",
    "\n",
    "# Set up colors\n",
    "colors = sns.color_palette('mako', len(labels))\n",
    "\n",
    "# Create a pie chart\n",
    "plt.figure(figsize=(8, 6))\n",
    "patches, texts, autotexts = plt.pie(sizes, labels=labels, colors=colors, autopct='%1.1f%%', startangle=90)\n",
    "\n",
    "# Add funding amounts to labels\n",
    "for i, (text, autotext) in enumerate(zip(texts, autotexts)):\n",
    "    autotext.set_color('white')  # Change the color of the percentage text to white\n",
    "    autotext.set_fontweight('bold')  # Make the percentage text bold\n",
    "    text.set_text(f'{labels[i]}: ${sizes[i]/1e9:.2f}B')  # Set the label text to include both the label and its corresponding funding amount\n",
    "\n",
    "# Equal aspect ratio ensures that pie is drawn as a circle\n",
    "plt.axis('equal')\n",
    "\n",
    "# Add title\n",
    "plt.title('Comparison of Funding Amounts between Early Stage and Established Companies')\n",
    "\n",
    "# Show the plot\n",
    "plt.show()\n"
   ]
  },
  {
   "cell_type": "markdown",
   "metadata": {},
   "source": [
    "#### Summary on the visualizations"
   ]
  },
  {
   "cell_type": "markdown",
   "metadata": {},
   "source": [
    "- Number of Startups: The first chart shows a higher number of early-stage startups compared to established ones, possibly due to new ideas and available seed funding.\n",
    "\n",
    "- Investment in Funding: The second chart reveals that early-stage companies attract more funding, suggesting investor confidence in innovative ventures.\n",
    "\n",
    "In conclusion, the data reflects a dynamic startup ecosystem with abundant funding for emerging companies, although early-stage ventures carry higher risk."
   ]
  },
  {
   "cell_type": "markdown",
   "metadata": {},
   "source": [
    "##### Q4. Which sectors recieve the lowest level of funding and which sectors recieve the highest levels of funding in India"
   ]
  },
  {
   "cell_type": "markdown",
   "metadata": {},
   "source": [
    "##### First answering sectors with higest funding"
   ]
  },
  {
   "cell_type": "code",
   "execution_count": 342,
   "metadata": {},
   "outputs": [],
   "source": [
    "# Group data by sector and get the sum of the amount\n",
    "sector_year_funding = final_dataset.groupby('sector')['amount($)'].sum()\n",
    "sector_year_funding_reset = sector_year_funding.reset_index().sort_values(by='amount($)', ascending=False).head(5)"
   ]
  },
  {
   "cell_type": "markdown",
   "metadata": {},
   "source": [
    "#### Visualizing"
   ]
  },
  {
   "cell_type": "code",
   "execution_count": 343,
   "metadata": {},
   "outputs": [
    {
     "data": {
      "image/png": "[encoded data removed]",
      "text/plain": [
       "<Figure size 1000x600 with 1 Axes>"
      ]
     },
     "metadata": {},
     "output_type": "display_data"
    }
   ],
   "source": [
    "# Convert the 'growth' values to billions\n",
    "sector_year_funding_reset['growth_billions'] = sector_year_funding_reset['amount($)'] / 1e9\n",
    "def annotate_bars(data, ax):\n",
    "    for index, value in enumerate(data['growth_billions']):\n",
    "        ax.text(value, index, f'{value:.2f}B', ha='left', va='center', fontsize=10)\n",
    "\n",
    "# Plotting using seaborn\n",
    "plt.figure(figsize=(10, 6))\n",
    "ax = sns.barplot(x='growth_billions', y='sector', data=sector_year_funding_reset, palette=\"mako\")\n",
    "\n",
    "plt.title('Top 5 Sectors with Highest Growth in Funding')\n",
    "plt.xlabel('Average Growth in Funding (In Billions)')\n",
    "plt.ylabel('Top 5 Sectors')\n",
    "\n",
    "# Annotate the bars with values\n",
    "annotate_bars(sector_year_funding_reset, ax)\n",
    "plt.show()"
   ]
  },
  {
   "cell_type": "markdown",
   "metadata": {},
   "source": [
    "##### Secondly answering sectors with lowest funding"
   ]
  },
  {
   "cell_type": "code",
   "execution_count": 344,
   "metadata": {},
   "outputs": [],
   "source": [
    "#Group data by sector and get the sum of the amount\n",
    "sector_year_funding = final_dataset.groupby('sector')['amount($)'].sum()\n",
    "sector_year_funding_reset = sector_year_funding.reset_index().sort_values(by='amount($)', ascending=False).tail(5)"
   ]
  },
  {
   "cell_type": "markdown",
   "metadata": {},
   "source": [
    "#### Visualizing"
   ]
  },
  {
   "cell_type": "code",
   "execution_count": 345,
   "metadata": {},
   "outputs": [
    {
     "data": {
      "image/png": "[encoded data removed]",
      "text/plain": [
       "<Figure size 1000x600 with 1 Axes>"
      ]
     },
     "metadata": {},
     "output_type": "display_data"
    }
   ],
   "source": [
    "def annotate_bars(data, ax):\n",
    "    for index, value in enumerate(data['amount($)']):\n",
    "        ax.text(value, index, f'{value:.2f}', ha='left', va='center', fontsize=10)\n",
    "\n",
    "# Plotting using seaborn\n",
    "plt.figure(figsize=(10, 6))\n",
    "ax = sns.barplot(x='amount($)', y='sector', data=sector_year_funding_reset, palette=\"mako\")\n",
    "\n",
    "annotate_bars(sector_year_funding_reset,ax)\n",
    "plt.title('Least 5 Sectors with Lowest Growth in Funding')\n",
    "plt.xlabel('Average Growth in Funding (In Thousands)')\n",
    "plt.ylabel('Least 5 Sectors')\n",
    "plt.show()"
   ]
  },
  {
   "cell_type": "markdown",
   "metadata": {},
   "source": [
    "#### Summary on the visualizations"
   ]
  },
  {
   "cell_type": "markdown",
   "metadata": {},
   "source": [
    "- The first graph shows the distribution of startups across different sectors. It indicates that there are significantly more startups in the FinTech, Retail, EdTech, Tech, and E-commerce sectors. This could be due to various factors such as market demand, technological advancements, and the availability of skilled workforce in these sectors.\n",
    "\n",
    "- The second graph compares the funding amounts received by different sectors. It shows that the Warehouse, Interior, Government, and Virtual sectors have received the least funding. This could suggest that these sectors are either emerging or not as attractive to investors as the sectors in the first graph.\n",
    "\n",
    "In conclusion, the number of startups and the amount of funding received are important indicators of the health and growth potential of a sector. While some sectors have a high number of startups and attract more funding, others may be emerging sectors with potential for future growth."
   ]
  },
  {
   "cell_type": "markdown",
   "metadata": {},
   "source": [
    "##### Q5. Which investors have more impact on startups over the years?"
   ]
  },
  {
   "cell_type": "markdown",
   "metadata": {},
   "source": [
    "#### Visualizing"
   ]
  },
  {
   "cell_type": "code",
   "execution_count": 362,
   "metadata": {},
   "outputs": [],
   "source": [
    "#Group 2018 data by investor and get the sum of the amount\n",
    "investor_year_funding_2018 = year_sector_2018.groupby('investor')['amount($)'].sum()/ 1e9\n",
    "investor_year_funding_2018_reset = investor_year_funding_2018.reset_index().sort_values(by='amount($)', ascending=False).head(5)\n",
    "\n",
    "#Group 2019 data by investor and get the sum of the amount\n",
    "investor_year_funding_2019 = year_sector_2019.groupby('investor')['amount($)'].sum()/ 1e9\n",
    "investor_year_funding_2019_reset = investor_year_funding_2019.reset_index().sort_values(by='amount($)', ascending=False).head(5)\n",
    "\n",
    "#Group 2020 data by sector and get the sum of the amount\n",
    "investor_year_funding_2020 = year_sector_2020.groupby('investor')['amount($)'].sum()/ 1e9\n",
    "investor_year_funding_2020_reset = investor_year_funding_2020.reset_index().sort_values(by='amount($)', ascending=False).head(5)\n",
    "\n",
    "#Group 2021 data by sector and get the sum of the amount\n",
    "investor_year_funding_2021 = year_sector_2021.groupby('investor')['amount($)'].sum()/ 1e9\n",
    "investor_year_funding_2021_reset = investor_year_funding_2021.reset_index().sort_values(by='amount($)', ascending=False).head(5)\n"
   ]
  },
  {
   "cell_type": "code",
   "execution_count": 364,
   "metadata": {},
   "outputs": [
    {
     "data": {
      "image/png": "[encoded data removed]",
      "text/plain": [
       "<Figure size 2000x1000 with 4 Axes>"
      ]
     },
     "metadata": {},
     "output_type": "display_data"
    }
   ],
   "source": [
    "fig, axes = plt.subplots(nrows=2, ncols=2, figsize=(20, 10))\n",
    "\n",
    "# Function to annotate each bar with the amount\n",
    "def annotate_bars(data, ax):\n",
    "    for index, value in enumerate(data['amount($)']):\n",
    "        ax.text(index, value, f'{value:.2f}B', ha='center', va='bottom', fontsize=10)\n",
    "\n",
    "# Plotting for 2018\n",
    "sns.barplot(x='investor', y='amount($)', data=investor_year_funding_2018_reset, palette=\"mako\", ax=axes[0, 0])\n",
    "annotate_bars(investor_year_funding_2018_reset, axes[0, 0])\n",
    "axes[0, 0].set_title('Top 5 Investors with Highest Funding in 2018')\n",
    "axes[0, 0].set_ylabel('Average in Funding (In Billions)')\n",
    "\n",
    "# Plotting for 2019\n",
    "sns.barplot(x='investor', y='amount($)', data=investor_year_funding_2019_reset, palette=\"mako\", ax=axes[0, 1])\n",
    "annotate_bars(investor_year_funding_2019_reset, axes[0, 1])\n",
    "axes[0, 1].set_title('Top 5 Investors with Highest Growth in Funding in 2019')\n",
    "axes[0, 1].set_ylabel('Average in Funding (In Billions)')\n",
    "\n",
    "# Plotting for 2020\n",
    "sns.barplot(x='investor', y='amount($)', data=investor_year_funding_2020_reset, palette=\"mako\", ax=axes[1, 0])\n",
    "annotate_bars(investor_year_funding_2020_reset, axes[1, 0])\n",
    "axes[1, 0].set_title('Top 5 Investors with Highest Funding in 2020')\n",
    "axes[1, 0].set_ylabel('Average in Funding (In Billions)')\n",
    "\n",
    "# Plotting for 2021\n",
    "sns.barplot(x='investor', y='amount($)', data=investor_year_funding_2021_reset, palette=\"mako\", ax=axes[1, 1])\n",
    "annotate_bars(investor_year_funding_2021_reset, axes[1, 1])\n",
    "axes[1, 1].set_title('Top 5 Investor with Highest Funding in 2021')\n",
    "axes[1, 1].set_ylabel('Average Growth in Funding (In Billions)')\n",
    "\n",
    "# Adjust layout\n",
    "plt.tight_layout()\n",
    "\n",
    "# Show the plots\n",
    "plt.show()\n"
   ]
  },
  {
   "cell_type": "markdown",
   "metadata": {},
   "source": [
    "#### Q6. What are the key characteristics of startups that successfully secure funding, and how do they differ from those that struggle to attract investment?"
   ]
  },
  {
   "cell_type": "markdown",
   "metadata": {},
   "source": [
    "#####\n",
    "**Successful startups often exhibit key characteristics:**\n",
    "- Offering an innovative product or service\n",
    "- Demonstrating market traction\n",
    "- Aligning with investor interests\n",
    "- Leveraging strategic partnerships and alliances\n",
    "- Showing resilience and adaptability\n",
    "\n",
    "For instance, a successful FinTech startup might offer an AI-powered personal finance management platform, experience rapid user adoption, be founded by industry veterans, address key pain points, form strategic partnerships, and demonstrate resilience.\n",
    "\n",
    "On the other hand, \n",
    "**struggling startups might have issues like:**\n",
    "- Unclear business model (e.g., VR startup relying solely on game sales)\n",
    "- Difficulty attracting investment due to limited market traction or unclear revenue streams\n"
   ]
  }
 ],
 "metadata": {
  "kernelspec": {
   "display_name": "Python 3",
   "language": "python",
   "name": "python3"
  },
  "language_info": {
   "codemirror_mode": {
    "name": "ipython",
    "version": 3
   },
   "file_extension": ".py",
   "mimetype": "text/x-python",
   "name": "python",
   "nbconvert_exporter": "python",
   "pygments_lexer": "ipython3",
   "version": "3.10.9"
  }
 },
 "nbformat": 4,
 "nbformat_minor": 2
}
